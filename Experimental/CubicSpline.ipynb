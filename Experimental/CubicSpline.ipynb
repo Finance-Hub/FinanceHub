{
 "cells": [
  {
   "cell_type": "code",
   "execution_count": 7,
   "metadata": {
    "collapsed": true
   },
   "outputs": [
    {
     "name": "stdout",
     "output_type": "stream",
     "text": [
      "1\n",
      "2\n",
      "3\n",
      "4\n",
      "5\n",
      "6\n",
      "7\n",
      "8\n",
      "9\n",
      "10\n",
      "11\n",
      "12\n",
      "13\n",
      "14\n",
      "15\n",
      "16\n"
     ]
    }
   ],
   "source": [
    "import numpy as np\n",
    "\n",
    "strikes = np.asarray([80, 90, 100, 110, 120])\n",
    "vol = np.asarray([0.18, 0.14, 0.12, 0.11, 0.11])\n",
    "\n",
    "n_points = len(strikes) - 1\n",
    "n_polynomials = 2*n_points\n",
    "nodes = n_points - 1\n",
    "restrictions = 2\n",
    "\n",
    "cubic_fun = lambda x: x**3\n",
    "cubic_der = lambda x: 3*x**2\n",
    "cubic_convex = lambda x: 6*x\n",
    "\n",
    "total_columns = 4*n_points\n",
    "total_rows = n_polynomials + nodes*2 + restrictions\n",
    "\n",
    "cubic_matrix = np.zeros([total_rows, total_columns])\n",
    "\n",
    "for n_pol in range(n_polynomials):\n",
    "    n_max = (n_pol + 1) * 2\n",
    "    for n in range(n_max - 1, n_max + 1):\n",
    "\n"
   ]
  }
 ],
 "metadata": {
  "kernelspec": {
   "display_name": "Python 3",
   "language": "python",
   "name": "python3"
  },
  "language_info": {
   "codemirror_mode": {
    "name": "ipython",
    "version": 2
   },
   "file_extension": ".py",
   "mimetype": "text/x-python",
   "name": "python",
   "nbconvert_exporter": "python",
   "pygments_lexer": "ipython2",
   "version": "2.7.6"
  }
 },
 "nbformat": 4,
 "nbformat_minor": 0
}
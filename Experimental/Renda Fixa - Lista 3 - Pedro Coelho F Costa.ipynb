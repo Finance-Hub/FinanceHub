{
 "cells": [
  {
   "cell_type": "code",
   "execution_count": 1,
   "metadata": {
    "collapsed": true
   },
   "outputs": [],
   "source": [
    "import pandas as pd\n",
    "from finmath.brazilian_bonds.government_bonds import LTN, NTNF\n",
    "from finmath.termstructure.curve_models import CurveBootstrap, NelsonSiegelSvensson\n",
    "from calendars import DayCounts\n",
    "import matplotlib.pyplot as plt\n",
    "import matplotlib.ticker as mtick\n",
    "%matplotlib inline\n",
    "\n",
    "\n",
    "def format_graph(ax):\n",
    "    ax.yaxis.set_major_formatter(mtick.PercentFormatter(xmax=1.0, decimals=2))\n",
    "    plt.grid(b=True, which='major', color='#666666', linestyle='-')\n",
    "    plt.minorticks_on()\n",
    "    plt.grid(b=True, which='minor', color='#999999', linestyle='-', alpha=0.2)\n",
    "    plt.show()\n",
    "\n",
    "\n",
    "############ Anbima Data ################\n",
    "\n",
    "ltn_anbima_yields = [2.0580, 2.3885, 2.9904, 3.4463, 4.0148, 4.4847, 4.9137,\n",
    "                     5.25, 5.7519, 6.115, 6.4247]\n",
    "ltn_anbima_prices = [997.013474, 990.769777, 981.006668, 969.939968, 955.861261, 940.724187, 923.868863,\n",
    "                     907.503999, 874.939934, 842.628298, 810.360245]\n",
    "ltn_maturities = ['2021-04-01', '2021-07-01', '2021-10-01', '2022-01-01', '2022-04-01', '2022-07-01', '2022-10-01',\n",
    "                  '2023-01-01', '2023-07-01', '2024-01-01', '2024-07-01']\n",
    "\n",
    "ntnf_anbima_yields = [5.1132, 6.2152, 6.8692, 7.3165, 7.6390]\n",
    "ntnf_anbima_prices = [1094.209749, 1134.782985, 1154.793279, 1164.388278, 1167.734580]\n",
    "ntnf_maturities = ['2023-01-01', '2025-01-01', '2027-01-01','2029-01-01', '2031-01-01']"
   ]
  },
  {
   "cell_type": "code",
   "execution_count": 2,
   "outputs": [
    {
     "name": "stdout",
     "output_type": "stream",
     "text": [
      "LTN\n",
      "2021-04-01 997.013474 997.013474 2.0580 2.0580\n",
      "2021-07-01 990.769777 990.769777 2.3885 2.3885\n",
      "2021-10-01 981.006668 981.006668 2.9904 2.9904\n",
      "2022-01-01 969.939968 969.939968 3.4463 3.4463\n",
      "2022-04-01 955.861261 955.861261 4.0148 4.0148\n",
      "2022-07-01 940.724187 940.724187 4.4847 4.4847\n",
      "2022-10-01 923.868863 923.868863 4.9137 4.9137\n",
      "2023-01-01 907.503999 907.503999 5.2500 5.2500\n",
      "2023-07-01 874.939934 874.939934 5.7519 5.7519\n",
      "2024-01-01 842.628298 842.628298 6.1150 6.1150\n",
      "2024-07-01 810.360245 810.360245 6.4247 6.4247\n"
     ]
    }
   ],
   "source": [
    "######## LTN ##########\n",
    "ref_date = pd.to_datetime('2021-02-05').date()\n",
    "dc = DayCounts('bus/252', calendar='cdr_anbima')\n",
    "\n",
    "dt_ltn_maturities = [pd.to_datetime(maturity).date() for maturity in ltn_maturities]\n",
    "ltns = dict()\n",
    "print('LTN')\n",
    "for anbima_yield, maturity, anbima_price in zip(ltn_anbima_yields, dt_ltn_maturities, ltn_anbima_prices):\n",
    "    ltns[maturity] = LTN(expiry=maturity, rate=anbima_yield/100, principal=1000, ref_date=ref_date)\n",
    "    print(f'{ltns[maturity].expiry} {ltns[maturity].price} {anbima_price} '\n",
    "          f'{ltns[maturity].rate_from_price(price=anbima_price)*100:.4f} {anbima_yield:.4f}')"
   ],
   "metadata": {
    "collapsed": false,
    "pycharm": {
     "name": "#%%\n"
    }
   }
  },
  {
   "cell_type": "code",
   "execution_count": 3,
   "outputs": [
    {
     "name": "stdout",
     "output_type": "stream",
     "text": [
      "NTN-F\n",
      "2023-01-01 109420.9749 109420.97490000002 5.1132 5.1132\n",
      "2025-01-01 113478.2985 113478.2985 6.2152 6.2152\n",
      "2027-01-01 115479.32789999999 115479.3279 6.8692 6.8692\n",
      "2029-01-01 116438.8278 116438.82779999998 7.3165 7.3165\n",
      "2031-01-01 116773.458 116773.458 7.6390 7.6390\n"
     ]
    }
   ],
   "source": [
    "######## NTN-F ##########\n",
    "dt_ntnf_maturities = [pd.to_datetime(maturity).date() for maturity in ntnf_maturities]\n",
    "ntnfs = dict()\n",
    "print('NTN-F')\n",
    "for anbima_yield, maturity, anbima_price in zip(ntnf_anbima_yields, dt_ntnf_maturities, ntnf_anbima_prices):\n",
    "    ntnfs[maturity] = NTNF(expiry=maturity, rate=anbima_yield/100, principal=100000, ref_date=ref_date)\n",
    "    print(f'{ntnfs[maturity].expiry} {ntnfs[maturity].price} {anbima_price*100} '\n",
    "          f'{ntnfs[maturity].rate_from_price(price=anbima_price*100)*100:.4f} {anbima_yield:.4f}')"
   ],
   "metadata": {
    "collapsed": false,
    "pycharm": {
     "name": "#%%\n"
    }
   }
  },
  {
   "cell_type": "code",
   "execution_count": 4,
   "outputs": [],
   "source": [
    "######## Flat Forward Curve ##########\n",
    "# print('Flat Forward Curve')\n",
    "# ltn_prices = list()\n",
    "# ltn_cash_flows = list()\n",
    "# for mat, bond in ltns.items():\n",
    "#     ltn_prices.append(bond.price)\n",
    "#     ltn_cash_flows.append(pd.Series(index=[mat], data=[bond.principal]))\n",
    "#\n",
    "# ntnf_prices = list()\n",
    "# ntnf_cash_flows = list()\n",
    "# for mat, bond in ntnfs.items():\n",
    "#     ntnf_prices.append(bond.price)\n",
    "#     ntnf_cash_flows.append(bond.cash_flows)\n",
    "#\n",
    "# all_prices = ltn_prices+ntnf_prices\n",
    "# all_cash_flows = ltn_cash_flows+ntnf_cash_flows\n",
    "#\n",
    "# bz_curve = CurveBootstrap(prices=all_prices,\n",
    "#                           cash_flows=all_cash_flows,\n",
    "#                           ref_date=ref_date)\n",
    "#\n",
    "# unique_maturities = set(dt_ltn_maturities + dt_ntnf_maturities)\n",
    "# unique_maturities = sorted([dc.busdateroll(dt_date, 'modifiedfollowing') for dt_date in unique_maturities])\n",
    "# flat_forward_curve = pd.Series(data=bz_curve.zero_curve.values, index=unique_maturities)"
   ],
   "metadata": {
    "collapsed": false,
    "pycharm": {
     "name": "#%%\n"
    }
   }
  },
  {
   "cell_type": "code",
   "execution_count": 5,
   "outputs": [],
   "source": [
    "######## Nelson Siegel Svensson Curve ##########\n",
    "# print('Nelson Siegel Svensson Curve')\n",
    "# lambdas = [2.2648, 0.3330]\n",
    "# nelson_siegel = NelsonSiegelSvensson(prices=all_prices,\n",
    "#                                      cash_flows=all_cash_flows,\n",
    "#                                      ref_date=ref_date,\n",
    "#                                      lambdas=lambdas)\n",
    "#\n",
    "# nss_curve = pd.Series(index=unique_maturities, dtype='float64')\n",
    "# betas = nelson_siegel.betas\n",
    "# for dt in unique_maturities:\n",
    "#     year_fraction = dc.tf(ref_date, dt)\n",
    "#     nss_curve[dt] = nelson_siegel.rate_for_ytm(betas, lambdas, year_fraction)"
   ],
   "metadata": {
    "collapsed": false,
    "pycharm": {
     "name": "#%%\n"
    }
   }
  },
  {
   "cell_type": "code",
   "execution_count": 6,
   "outputs": [],
   "source": [
    "######## DI1 Curve ##########\n",
    "# print('DI1 Curve')\n",
    "# path = 'D:/Pedro/OneDrive/MPE Insper/Renda Fixa/'\n",
    "# di_df = pd.read_excel(f'{path}DI_table_20210205.xlsx')\n",
    "# di_df['Maturity'] = [dc.busdateroll(dt_date, 'modifiedfollowing') for dt_date in di_df['Maturity'].values]\n",
    "#\n",
    "# di_df.set_index(keys=['Maturity'], inplace=True)\n",
    "# di_df['Last Price'] = di_df['Last Price'] / 100\n",
    "# di_series = pd.Series(data=di_df['Last Price'].values, index=di_df.index)"
   ],
   "metadata": {
    "collapsed": false,
    "pycharm": {
     "name": "#%%\n"
    }
   }
  },
  {
   "cell_type": "code",
   "execution_count": 7,
   "outputs": [],
   "source": [
    "######## All Curves ##########\n",
    "# all_curves = pd.DataFrame(index=di_series.index, columns=['DI1', 'Flat Forward', 'NSS'])\n",
    "# all_curves['DI1'] = di_series.values\n",
    "#\n",
    "# for dt in all_curves.index:\n",
    "#     year_fraction = dc.tf(ref_date, dt)\n",
    "#     all_curves.at[dt, 'Flat Forward'] = bz_curve.rate_for_date(year_fraction)\n",
    "#     all_curves.at[dt, 'NSS'] = nelson_siegel.rate_for_ytm(betas, lambdas, year_fraction)"
   ],
   "metadata": {
    "collapsed": false,
    "pycharm": {
     "name": "#%%\n"
    }
   }
  },
  {
   "cell_type": "code",
   "execution_count": 8,
   "outputs": [],
   "source": [
    "######## Flat Forward x NSS ##########\n",
    "# ax = all_curves[['Flat Forward', 'NSS']].plot(figsize=(15,10), fontsize=16, marker='o')\n",
    "# format_graph(ax)"
   ],
   "metadata": {
    "collapsed": false,
    "pycharm": {
     "name": "#%%\n"
    }
   }
  },
  {
   "cell_type": "code",
   "execution_count": 9,
   "outputs": [],
   "source": [
    "######## Flat Forward x DI1 ##########\n",
    "# ax = all_curves[['Flat Forward', 'DI1']].plot(figsize=(15,10), fontsize=16, marker='o')\n",
    "# format_graph(ax)"
   ],
   "metadata": {
    "collapsed": false,
    "pycharm": {
     "name": "#%%\n"
    }
   }
  },
  {
   "cell_type": "code",
   "execution_count": 10,
   "outputs": [],
   "source": [
    "######## NSS x DI1 ##########\n",
    "# ax = all_curves[['NSS', 'DI1']].plot(figsize=(15,10), fontsize=16, marker='o')\n",
    "# format_graph(ax)"
   ],
   "metadata": {
    "collapsed": false,
    "pycharm": {
     "name": "#%%\n"
    }
   }
  },
  {
   "cell_type": "code",
   "execution_count": 11,
   "outputs": [],
   "source": [
    "###### Arbitrage ##########\n",
    "# bond_maturity = pd.to_datetime('2024-01-01').date()\n",
    "# tenor_date = dc.busdateroll(pd.to_datetime('2024-01-01').date(), 'modifiedfollowing')\n",
    "# di1_rate = all_curves[all_curves.index==tenor_date]['DI1']\n",
    "# principal = 1000000\n",
    "# bond_rate = all_curves[all_curves.index==tenor_date]['NSS'][0]\n",
    "# ltn_2024 = LTN(expiry=bond_maturity, rate=bond_rate, ref_date=ref_date,\n",
    "#                principal=principal)\n",
    "# loan_at_future = ltn_2024.price*((1+di1_rate[0])**dc.tf(ref_date, bond_maturity))\n",
    "# yearly_spread = (principal/loan_at_future)**(1/dc.tf(ref_date, bond_maturity))-1\n",
    "\n",
    "\n",
    "# print(f'Buy Bond with Maturity at {bond_maturity} and principal of {principal:,.2f} @{bond_rate:.4%}')\n",
    "# print(f'Bond {bond_maturity} price: {ltn_2024.price:,.2f}')\n",
    "# print(f'Take a loan of {ltn_2024.price:,.2f} @{di1_rate[0]:.4%}')\n",
    "# print(f'Gain the yearly spread of {yearly_spread:.4%}')"
   ],
   "metadata": {
    "collapsed": false,
    "pycharm": {
     "name": "#%%\n"
    }
   }
  }
 ],
 "metadata": {
  "kernelspec": {
   "display_name": "Python 3",
   "language": "python",
   "name": "python3"
  },
  "language_info": {
   "codemirror_mode": {
    "name": "ipython",
    "version": 2
   },
   "file_extension": ".py",
   "mimetype": "text/x-python",
   "name": "python",
   "nbconvert_exporter": "python",
   "pygments_lexer": "ipython2",
   "version": "2.7.6"
  }
 },
 "nbformat": 4,
 "nbformat_minor": 0
}
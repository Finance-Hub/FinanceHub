{
 "cells": [
  {
   "cell_type": "code",
   "execution_count": 1,
   "metadata": {
    "collapsed": true
   },
   "outputs": [],
   "source": [
    "import pandas as pd\n",
    "import numpy as np\n",
    "from sklearn.decomposition import PCA\n",
    "from dataapi.FRED.getfreddata import FRED\n",
    "\n",
    "fred = FRED()"
   ]
  },
  {
   "cell_type": "code",
   "execution_count": 3,
   "outputs": [
    {
     "name": "stdout",
     "output_type": "stream",
     "text": [
      "              1M    3M    6M    1Y    2Y    3Y    5Y    7Y   10Y   20Y   30Y\n",
      "Date                                                                        \n",
      "1962-01-02   NaN   NaN   NaN  3.22   NaN  3.70  3.88   NaN  4.06  4.07   NaN\n",
      "1962-01-03   NaN   NaN   NaN  3.24   NaN  3.70  3.87   NaN  4.03  4.07   NaN\n",
      "1962-01-04   NaN   NaN   NaN  3.24   NaN  3.69  3.86   NaN  3.99  4.06   NaN\n",
      "1962-01-05   NaN   NaN   NaN  3.26   NaN  3.71  3.89   NaN  4.02  4.07   NaN\n",
      "1962-01-08   NaN   NaN   NaN  3.31   NaN  3.71  3.91   NaN  4.03  4.08   NaN\n",
      "...          ...   ...   ...   ...   ...   ...   ...   ...   ...   ...   ...\n",
      "2021-02-26  0.04  0.04  0.05  0.08  0.14  0.30  0.75  1.15  1.44  2.08  2.17\n",
      "2021-03-01  0.03  0.05  0.07  0.08  0.13  0.27  0.71  1.12  1.45  2.11  2.23\n",
      "2021-03-02  0.04  0.04  0.06  0.08  0.13  0.26  0.67  1.08  1.42  2.09  2.21\n",
      "2021-03-03  0.04  0.05  0.07  0.08  0.14  0.29  0.73  1.14  1.47  2.12  2.25\n",
      "2021-03-04  0.03  0.04  0.07  0.08  0.14  0.32  0.77  1.21  1.54  2.18  2.30\n",
      "\n",
      "[14780 rows x 11 columns]\n"
     ]
    }
   ],
   "source": [
    "US_rates = {'DGS1MO': '1M',\n",
    "            'DGS3MO': '3M',\n",
    "            'DGS6MO': '6M',\n",
    "            'DGS1': '1Y',\n",
    "            'DGS2': '2Y',\n",
    "            'DGS3': '3Y',\n",
    "            'DGS5': '5Y',\n",
    "            'DGS7': '7Y',\n",
    "            'DGS10': '10Y',\n",
    "            'DGS20': '20Y',\n",
    "            'DGS30': '30Y'}\n",
    "\n",
    "df_rates = fred.fetch(US_rates)\n",
    "print(df_rates)"
   ],
   "metadata": {
    "collapsed": false,
    "pycharm": {
     "name": "#%%\n"
    }
   }
  }
 ],
 "metadata": {
  "kernelspec": {
   "display_name": "Python 3",
   "language": "python",
   "name": "python3"
  },
  "language_info": {
   "codemirror_mode": {
    "name": "ipython",
    "version": 2
   },
   "file_extension": ".py",
   "mimetype": "text/x-python",
   "name": "python",
   "nbconvert_exporter": "python",
   "pygments_lexer": "ipython2",
   "version": "2.7.6"
  }
 },
 "nbformat": 4,
 "nbformat_minor": 0
}
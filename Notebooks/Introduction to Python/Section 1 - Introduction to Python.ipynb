{
 "cells": [
  {
   "cell_type": "markdown",
   "metadata": {},
   "source": [
    "# Section 1 - Introduction to Python\n",
    "## Author: Gustavo Amarante\n",
    "\n",
    "Some principles to keep in mind:\n",
    "* **The internet is your best friend**. If you have any doubts, the first person you should ask for help is Google. He knows all about python.\n",
    "\n",
    "\n",
    "* **If you run into any problem, you are probably not the first one**. Python is the fastest growing programming language in the world. Chances are, somebody already has the solution to your problem.\n",
    "\n",
    "\n",
    "* **The open source community is a TRUE community**. There are people on the internet willing to help you. If want to ask for help go to the [Stack Overflow](https://stackoverflow.com/) forum, create an account (you should do this *right now*) and follow the rules and guidelines.\n",
    "\n",
    "\n",
    "* **Contribute**. If you want to (and you should) give back to the open source community, publish your code on [GitHub](https://github.com/).\n",
    "\n",
    "\n",
    "## Objective of this section\n",
    "> _**Understand python basic commands**. Variable types, conditionals, loops and customized functions_"
   ]
  },
  {
   "cell_type": "markdown",
   "metadata": {},
   "source": [
    "---\n",
    "# Python Basics\n",
    "\n",
    "Python is a high-level, object-oriented programming language that can be applied to many different classes of problems. The main philosophy behind Python's design is to emphasize **code readability**.\n",
    "\n",
    "As opposed to its competitors, which usually have niche communities (*statisticians love R, but don't let them get to you*), python is reccomended to people working on **all fields**, from people doing scientific research to video games designers.\n",
    "\n",
    "Here, we are going to cover the basics, enough for you to **undestand the syntax and read other people's code**. If you are looking for something a bit more in depth, here is a [Begginer Guide](https://wiki.python.org/moin/BeginnersGuide) and a [more extensive and detailed tutorial](https://docs.python.org/2/tutorial/index.html)."
   ]
  },
  {
   "cell_type": "markdown",
   "metadata": {},
   "source": [
    "## Types of Variables\n",
    "Python has several types of variables, they all have their advantages when used correctly. The standard types of variables that you can use in python are:\n",
    "\n",
    "* Integers and Floting Point Numbers\n",
    "* Strings (Text)\n",
    "* Lists\n",
    "* Tuples\n",
    "* Sets\n",
    "* Dictionaries (Associative Arrays)\n",
    "* Booleans (True and False)"
   ]
  },
  {
   "cell_type": "markdown",
   "metadata": {},
   "source": [
    "## Numerical Variables - Integers, Floating Point Numbers and Basic Mathematical Operations\n",
    "All basic mathematical operations are available `+`, `-`, `*`, `/`.\n",
    "\n",
    "Although `int` and `float` are different types of variables you can perform operations between them."
   ]
  },
  {
   "cell_type": "code",
   "execution_count": 1,
   "metadata": {},
   "outputs": [
    {
     "data": {
      "text/plain": [
       "4"
      ]
     },
     "execution_count": 1,
     "metadata": {},
     "output_type": "execute_result"
    }
   ],
   "source": [
    "2 + 2"
   ]
  },
  {
   "cell_type": "code",
   "execution_count": 2,
   "metadata": {},
   "outputs": [
    {
     "data": {
      "text/plain": [
       "int"
      ]
     },
     "execution_count": 2,
     "metadata": {},
     "output_type": "execute_result"
    }
   ],
   "source": [
    "type(4)"
   ]
  },
  {
   "cell_type": "code",
   "execution_count": 3,
   "metadata": {},
   "outputs": [
    {
     "data": {
      "text/plain": [
       "3.142857142857143"
      ]
     },
     "execution_count": 3,
     "metadata": {},
     "output_type": "execute_result"
    }
   ],
   "source": [
    "22/7"
   ]
  },
  {
   "cell_type": "code",
   "execution_count": 4,
   "metadata": {},
   "outputs": [
    {
     "data": {
      "text/plain": [
       "float"
      ]
     },
     "execution_count": 4,
     "metadata": {},
     "output_type": "execute_result"
    }
   ],
   "source": [
    "type(22/7)"
   ]
  },
  {
   "cell_type": "code",
   "execution_count": null,
   "metadata": {
    "scrolled": true
   },
   "outputs": [],
   "source": [
    "type(3 + 3.14)"
   ]
  },
  {
   "cell_type": "code",
   "execution_count": null,
   "metadata": {},
   "outputs": [],
   "source": [
    "type(22/7)"
   ]
  },
  {
   "cell_type": "markdown",
   "metadata": {},
   "source": [
    "Unlike most programming languages the symbol for exponentiations is  `**`."
   ]
  },
  {
   "cell_type": "code",
   "execution_count": null,
   "metadata": {},
   "outputs": [],
   "source": [
    "3**2"
   ]
  },
  {
   "cell_type": "markdown",
   "metadata": {},
   "source": [
    "**Floor division** (integer part of a division) is available with `//` "
   ]
  },
  {
   "cell_type": "code",
   "execution_count": null,
   "metadata": {},
   "outputs": [],
   "source": [
    "22//7 "
   ]
  },
  {
   "cell_type": "markdown",
   "metadata": {},
   "source": [
    "The operator `%` returns the **remainder of the division**"
   ]
  },
  {
   "cell_type": "code",
   "execution_count": null,
   "metadata": {
    "scrolled": true
   },
   "outputs": [],
   "source": [
    "22%7"
   ]
  },
  {
   "cell_type": "markdown",
   "metadata": {},
   "source": [
    "As usual, the `=` sign represents **variable assingment** and not a mathematical equality. The code\n",
    "\n",
    "```python\n",
    "a = 10\n",
    "```\n",
    "\n",
    "means that the value of 10 is assigned to the variable `a`. The code\n",
    "\n",
    "```python\n",
    "a = a + 10\n",
    "```\n",
    "\n",
    "means that the value assigned to `a` is its previous value plus 10.\n",
    "\n",
    "Variable names in python are **case and accent sensitive** (*but this is not good practice*)"
   ]
  },
  {
   "cell_type": "code",
   "execution_count": null,
   "metadata": {
    "scrolled": true
   },
   "outputs": [],
   "source": [
    "a = 10\n",
    "É = 5.5\n",
    "a + É"
   ]
  },
  {
   "cell_type": "markdown",
   "metadata": {},
   "source": [
    "Behind the curtains, floating point numbers are basically numbers with scientific notation. But since every computer works with a binary base, it sometimes encouter some rounding errors due to recurring decimals, like the example below."
   ]
  },
  {
   "cell_type": "code",
   "execution_count": null,
   "metadata": {},
   "outputs": [],
   "source": [
    "0.2 + 0.1 "
   ]
  },
  {
   "cell_type": "markdown",
   "metadata": {},
   "source": [
    "To understand a little more about why this happens, have a look at [this video](https://www.youtube.com/watch?v=PZRI1IfStY0)."
   ]
  },
  {
   "cell_type": "markdown",
   "metadata": {},
   "source": [
    "---\n",
    "## Text Variables - Strings\n",
    "To create a `str` variable, the text needs enclosed between single quotes `'text'` or double quotes `\"text\"`"
   ]
  },
  {
   "cell_type": "code",
   "execution_count": null,
   "metadata": {},
   "outputs": [],
   "source": [
    "type('Gustavo')"
   ]
  },
  {
   "cell_type": "markdown",
   "metadata": {},
   "source": [
    "There are operations that we can do with varibles of the string type. For example, the `+` sign concatenates the strings."
   ]
  },
  {
   "cell_type": "code",
   "execution_count": null,
   "metadata": {},
   "outputs": [],
   "source": [
    "first = 'Gustavo'\n",
    "last = 'Amarante'\n",
    "first + last"
   ]
  },
  {
   "cell_type": "markdown",
   "metadata": {},
   "source": [
    "When a string is \"multiplied\" by a number with the `*` sign, it repeats the string that many times"
   ]
  },
  {
   "cell_type": "code",
   "execution_count": null,
   "metadata": {
    "scrolled": true
   },
   "outputs": [],
   "source": [
    "10*'na ' + 'Hey Jude!'"
   ]
  },
  {
   "cell_type": "markdown",
   "metadata": {},
   "source": [
    "Strings have their own commands. The `\\` (*escape quotes* or *backslash*) allows for the next digit to be **interpreted as a command**, and not as a string. For example:\n",
    "* `\\n` is the command for a new line\n",
    "* `\\t` is the command for tab spaces"
   ]
  },
  {
   "cell_type": "code",
   "execution_count": null,
   "metadata": {},
   "outputs": [],
   "source": [
    "print('Gustavo \\n Amarante')"
   ]
  },
  {
   "cell_type": "code",
   "execution_count": null,
   "metadata": {
    "scrolled": true
   },
   "outputs": [],
   "source": [
    "print('Gustavo \\t Amarante')"
   ]
  },
  {
   "cell_type": "markdown",
   "metadata": {},
   "source": [
    "If you want your string to contain the symbol `\\`, you need to use a **raw string**, by placing an `r` in front of it. A rew string blocks the interpretation of a backslash as a command."
   ]
  },
  {
   "cell_type": "code",
   "execution_count": null,
   "metadata": {},
   "outputs": [],
   "source": [
    "print(r'Gustavo \\t Amarante')"
   ]
  },
  {
   "cell_type": "markdown",
   "metadata": {},
   "source": [
    "An exapmle of an application of raw strings is when writing the directions to a folder."
   ]
  },
  {
   "cell_type": "code",
   "execution_count": null,
   "metadata": {},
   "outputs": [],
   "source": [
    "print('C:\\some\\folder\\name')"
   ]
  },
  {
   "cell_type": "code",
   "execution_count": null,
   "metadata": {},
   "outputs": [],
   "source": [
    "print(r'C:\\some\\folder\\name')"
   ]
  },
  {
   "cell_type": "markdown",
   "metadata": {},
   "source": [
    "You can access the characters in a string using its **index**. \n",
    "\n",
    "<font color=\"red\">**Warning**</font>: In python, **index positions starts at 0** and intervals are interpreted as $[a:b[$, meaning that it includes the first index position and excludes the last index position. There are **math-related reasons** behind this, and not software/hardware-related reasons. If you are curious about them, have a look at [this discussion](https://softwareengineering.stackexchange.com/questions/110804/why-are-zero-based-arrays-the-norm)."
   ]
  },
  {
   "cell_type": "code",
   "execution_count": null,
   "metadata": {},
   "outputs": [],
   "source": [
    "var = 'Gustavo'\n",
    "print(var[0])  # Position 0 has the first letter\n",
    "print(var[3])  # Position 3 has the 4th letter\n",
    "print(var[0:3])  # Characters from position 0 (included) to position 3 (excluded)"
   ]
  },
  {
   "cell_type": "markdown",
   "metadata": {},
   "source": [
    "If you use negative values on the index of a string, it counts backwards from the end of the index.\n",
    "```\n",
    " +---+---+---+---+---+---+\n",
    " | P | y | t | h | o | n |\n",
    " +---+---+---+---+---+---+\n",
    " 0   1   2   3   4   5   6\n",
    "-6  -5  -4  -3  -2  -1\n",
    "```"
   ]
  },
  {
   "cell_type": "code",
   "execution_count": null,
   "metadata": {},
   "outputs": [],
   "source": [
    "var = 'Python'\n",
    "print(var[-1])    # Last character in the string\n",
    "print(var[-3:])   # Characters from the third-last position (included) until the end of the string"
   ]
  },
  {
   "cell_type": "markdown",
   "metadata": {},
   "source": [
    "You can get the number of characters in a string using the `len()` function"
   ]
  },
  {
   "cell_type": "code",
   "execution_count": null,
   "metadata": {},
   "outputs": [],
   "source": [
    "var = 'minha terra tem palmeiras onde canta o sabiá'\n",
    "len(var)"
   ]
  },
  {
   "cell_type": "markdown",
   "metadata": {},
   "source": [
    "In python there are operations that are specific to some variables type. These operations are **methods**, and are usually executed as `var_name.method_name()`.\n",
    "\n",
    "Here are a few methods of a string variable:"
   ]
  },
  {
   "cell_type": "code",
   "execution_count": null,
   "metadata": {},
   "outputs": [],
   "source": [
    "var.upper()"
   ]
  },
  {
   "cell_type": "code",
   "execution_count": null,
   "metadata": {},
   "outputs": [],
   "source": [
    "var.title()"
   ]
  },
  {
   "cell_type": "markdown",
   "metadata": {},
   "source": [
    "Some methods requires **arguments**"
   ]
  },
  {
   "cell_type": "code",
   "execution_count": null,
   "metadata": {},
   "outputs": [],
   "source": [
    "var.replace('canta', 'chora')  # .replace('palmeiras', 'coqueiros')"
   ]
  },
  {
   "cell_type": "code",
   "execution_count": null,
   "metadata": {},
   "outputs": [],
   "source": [
    "var.find('terra')"
   ]
  },
  {
   "cell_type": "code",
   "execution_count": null,
   "metadata": {},
   "outputs": [],
   "source": [
    "var[6]"
   ]
  },
  {
   "cell_type": "code",
   "execution_count": null,
   "metadata": {},
   "outputs": [],
   "source": [
    "var.split('palmeiras')"
   ]
  },
  {
   "cell_type": "code",
   "execution_count": null,
   "metadata": {},
   "outputs": [],
   "source": [
    "var.split()  # if no argument is passed, the string is splited in the whitespaces"
   ]
  },
  {
   "cell_type": "code",
   "execution_count": null,
   "metadata": {},
   "outputs": [],
   "source": [
    "type(var.split())"
   ]
  },
  {
   "cell_type": "markdown",
   "metadata": {},
   "source": [
    "---\n",
    "## Lists\n",
    "A python list can contain variables or values of any type and is created by using angle brackets `[]` and separating elements with `,`."
   ]
  },
  {
   "cell_type": "code",
   "execution_count": null,
   "metadata": {},
   "outputs": [],
   "source": [
    "squares = [1, 2, 4, 8, 16]\n",
    "cons = [3.141, 2.718]\n",
    "names = ['Gustavo', \"Amarante\"]"
   ]
  },
  {
   "cell_type": "code",
   "execution_count": null,
   "metadata": {},
   "outputs": [],
   "source": [
    "var = squares + cons + names\n",
    "print(var)"
   ]
  },
  {
   "cell_type": "markdown",
   "metadata": {},
   "source": [
    "lists can also be accessed by their index"
   ]
  },
  {
   "cell_type": "code",
   "execution_count": null,
   "metadata": {},
   "outputs": [],
   "source": [
    "var[-3:]"
   ]
  },
  {
   "cell_type": "code",
   "execution_count": null,
   "metadata": {},
   "outputs": [],
   "source": [
    "len(var)"
   ]
  },
  {
   "cell_type": "markdown",
   "metadata": {},
   "source": [
    "Elements of a list can be anything, including other lists"
   ]
  },
  {
   "cell_type": "code",
   "execution_count": null,
   "metadata": {},
   "outputs": [],
   "source": [
    "var = [1, 2, 4, 8, 16, [1, 2, 3]]\n",
    "print(var)"
   ]
  },
  {
   "cell_type": "code",
   "execution_count": null,
   "metadata": {},
   "outputs": [],
   "source": [
    "var[-1]"
   ]
  },
  {
   "cell_type": "markdown",
   "metadata": {},
   "source": [
    "A list is a **mutable** object, meaning that you can change the value of a single entry if you want to"
   ]
  },
  {
   "cell_type": "code",
   "execution_count": null,
   "metadata": {},
   "outputs": [],
   "source": [
    "my_list = ['Gustavo', 'Soares']\n",
    "my_list[1] = 'Amarante'\n",
    "my_list"
   ]
  },
  {
   "cell_type": "markdown",
   "metadata": {},
   "source": [
    "Not all objects in python are mutable... like tuples."
   ]
  },
  {
   "cell_type": "markdown",
   "metadata": {},
   "source": [
    "---\n",
    "## Tuples\n",
    "Essentialy, tuples are **immutable** lists. They are created using parenthesis `()` and separting the elements with `,`. Although lists are more flexible, there are specific situations where tuples come in handy."
   ]
  },
  {
   "cell_type": "code",
   "execution_count": null,
   "metadata": {},
   "outputs": [],
   "source": [
    "my_tuple = ('Gustavo', 'Soares')"
   ]
  },
  {
   "cell_type": "code",
   "execution_count": null,
   "metadata": {},
   "outputs": [],
   "source": [
    "my_tuple[1]"
   ]
  },
  {
   "cell_type": "code",
   "execution_count": null,
   "metadata": {
    "scrolled": true
   },
   "outputs": [],
   "source": [
    "my_tuple[1] = 'Amarante'"
   ]
  },
  {
   "cell_type": "markdown",
   "metadata": {},
   "source": [
    "**Hint**: Always read the error messeges. They usually tell you what the problem is."
   ]
  },
  {
   "cell_type": "markdown",
   "metadata": {},
   "source": [
    "---\n",
    "## Sets\n",
    "A set is an **unordered collection with no duplicate elements**. There are two ways to create a set. You can either use curly brackets `{}` separating elements with `,` or use the `set()` function on other objects. Bot methods already eliminate any duplicates."
   ]
  },
  {
   "cell_type": "code",
   "execution_count": null,
   "metadata": {},
   "outputs": [],
   "source": [
    "basket1 = {'apple', 'orange', 'apple', 'pear', 'orange', 'banana', 'banana'}\n",
    "basket1"
   ]
  },
  {
   "cell_type": "code",
   "execution_count": null,
   "metadata": {
    "scrolled": true
   },
   "outputs": [],
   "source": [
    "basket2 = ['apple', 'orange', 'apple', 'orange', 'grapes']\n",
    "basket2 = set(basket2)\n",
    "basket2"
   ]
  },
  {
   "cell_type": "markdown",
   "metadata": {},
   "source": [
    "You can use **traditional set operations** on set variables"
   ]
  },
  {
   "cell_type": "code",
   "execution_count": null,
   "metadata": {},
   "outputs": [],
   "source": [
    "print(basket1 - basket2)  # items in basket 1 that are not in basket 2 (Set difference)\n",
    "print(basket1 & basket2)  # items in basket 1 and basket 2 (AND - Intersection)\n",
    "print(basket1 | basket2)  # items in basket 1 or basket 2 (OR - Union)\n",
    "print(basket1 ^ basket2)  # items in basket 1 or basket 2 but not in both (XOR - Symetric Difference)"
   ]
  },
  {
   "cell_type": "markdown",
   "metadata": {},
   "source": [
    "---\n",
    "## Dictionaries\n",
    "Other programming languages call them **associative arrays**. Unlike strings or lists, they are indexed by **keys** and not by numerical positions. Each key is associated with a **value**. The structure to create a dictionary is\n",
    "\n",
    "```python\n",
    "my_dict = {key1: value1, key2: value2, key3: value3}\n",
    "```"
   ]
  },
  {
   "cell_type": "code",
   "execution_count": null,
   "metadata": {},
   "outputs": [],
   "source": [
    "currency = {'Brazil': 'Real', 'USA': 'Dollar', 'Germany': 'Euro', 'Japan': 'Yen'}"
   ]
  },
  {
   "cell_type": "markdown",
   "metadata": {},
   "source": [
    "Now you can treat `currency` as if it was a list, but it is indexed by the keys."
   ]
  },
  {
   "cell_type": "code",
   "execution_count": null,
   "metadata": {},
   "outputs": [],
   "source": [
    "currency['Germany']"
   ]
  },
  {
   "cell_type": "code",
   "execution_count": null,
   "metadata": {},
   "outputs": [],
   "source": [
    "currency.keys()"
   ]
  },
  {
   "cell_type": "code",
   "execution_count": null,
   "metadata": {},
   "outputs": [],
   "source": [
    "currency.values()"
   ]
  },
  {
   "cell_type": "markdown",
   "metadata": {},
   "source": [
    "---\n",
    "## Booleans and Comparisons\n",
    "Boolean variables assume values `True` or `False`. They are the output of a **logical operation** (operation between booleans) or a **comparison operation** (comparison between other types of variables)."
   ]
  },
  {
   "cell_type": "code",
   "execution_count": null,
   "metadata": {},
   "outputs": [],
   "source": [
    "x = True  # First letter needs to be uppercase\n",
    "type(x)"
   ]
  },
  {
   "cell_type": "markdown",
   "metadata": {},
   "source": [
    "The most commom comparison operations in python are:\n",
    "\n",
    "| Operation |\tDescription                |\n",
    "|:---------:|------------------------------|\n",
    "| a == b    | a equal to b                 |\n",
    "| a != b    | a not equal to b             |\n",
    "| a < b\t    | a less than b                |\n",
    "| a > b\t    | a greater than b             |\n",
    "| a <= b    | a less than or equal to b    |\n",
    "| a >= b    | a greater than or equal to b |"
   ]
  },
  {
   "cell_type": "code",
   "execution_count": null,
   "metadata": {},
   "outputs": [],
   "source": [
    "a = 2      # integer\n",
    "b = 2.0    # floating point number\n",
    "a == b"
   ]
  },
  {
   "cell_type": "code",
   "execution_count": null,
   "metadata": {},
   "outputs": [],
   "source": [
    "a = 2    # integer\n",
    "b = '2'  # string\n",
    "a == b"
   ]
  },
  {
   "cell_type": "markdown",
   "metadata": {},
   "source": [
    "Logical operations use `and`, `or` and `not`."
   ]
  },
  {
   "cell_type": "code",
   "execution_count": null,
   "metadata": {},
   "outputs": [],
   "source": [
    "True and False"
   ]
  },
  {
   "cell_type": "code",
   "execution_count": null,
   "metadata": {},
   "outputs": [],
   "source": [
    "True or False"
   ]
  },
  {
   "cell_type": "code",
   "execution_count": null,
   "metadata": {},
   "outputs": [],
   "source": [
    "not True"
   ]
  },
  {
   "cell_type": "code",
   "execution_count": null,
   "metadata": {},
   "outputs": [],
   "source": [
    "(2 < 3) or (3 < 1)"
   ]
  },
  {
   "cell_type": "markdown",
   "metadata": {},
   "source": [
    "There are some other operations in python which are counterintuitive in terms of mathematics or logic, but makes sense from a computer science perspective.\n",
    "\n",
    "| Operation |\tDescription                |\n",
    "|---------|------------------------------|\n",
    "| is    | object identity                 |\n",
    "| is not    | negated object identity             |"
   ]
  },
  {
   "cell_type": "code",
   "execution_count": null,
   "metadata": {},
   "outputs": [],
   "source": [
    "x = 5\n",
    "y = 2.5 + 2.5\n",
    "print(x == y)\n",
    "print(x is y)"
   ]
  },
  {
   "cell_type": "code",
   "execution_count": null,
   "metadata": {},
   "outputs": [],
   "source": [
    "x = 5\n",
    "y = x\n",
    "print(x == y)\n",
    "print(x is y)"
   ]
  },
  {
   "cell_type": "markdown",
   "metadata": {},
   "source": [
    "---\n",
    "## Conditionals\n",
    "The classical *\"if this then that\"* structure. The python keywords for it are `if`, `elif` and `else`.\n",
    "\n",
    "<font color='#ff0000'>**Warning**</font>: Tabbing the lines (identation) after each conditional statement is **necessary** (python forces you to keep your code clean and readable)"
   ]
  },
  {
   "cell_type": "code",
   "execution_count": null,
   "metadata": {},
   "outputs": [],
   "source": [
    "x = 11\n",
    "\n",
    "if x % 2 == 0:  # checks if the remainder of the division is zero\n",
    "    print('x is even')  \n",
    "    \n",
    "elif x % 2 == 1:\n",
    "    print('x is odd')   \n",
    "    \n",
    "else:\n",
    "    print('x is not integer')"
   ]
  },
  {
   "cell_type": "markdown",
   "metadata": {},
   "source": [
    "The `if` statemente automatically looks for a boolean variable. You do not need to tell him what to look for."
   ]
  },
  {
   "cell_type": "code",
   "execution_count": null,
   "metadata": {},
   "outputs": [],
   "source": [
    "cond = True\n",
    "\n",
    "if cond:  # \"cond is True\" and \"cond == True\" also work, but is not good practice\n",
    "    print('condition is satisfied')\n",
    "else:\n",
    "    print('condition is not satisfied')"
   ]
  },
  {
   "cell_type": "markdown",
   "metadata": {},
   "source": [
    "---\n",
    "## Loops\n",
    "Loops are a way to repeatedly execute some code statement.\n",
    "\n",
    "### `for` Statements\n",
    "In python, `for` statements do not work with counters, they work with any **iterable objects**."
   ]
  },
  {
   "cell_type": "code",
   "execution_count": null,
   "metadata": {
    "scrolled": true
   },
   "outputs": [],
   "source": [
    "for i in range(5):\n",
    "    print(i)"
   ]
  },
  {
   "cell_type": "code",
   "execution_count": null,
   "metadata": {},
   "outputs": [],
   "source": [
    "planets = ['Earth', 'Mars', 'Mercury', 'Venus']\n",
    "\n",
    "for p in planets:\n",
    "    print(p)"
   ]
  },
  {
   "cell_type": "code",
   "execution_count": null,
   "metadata": {},
   "outputs": [],
   "source": [
    "msg = 'python Is aN interpreted high-level programming language for general-purpoSe Programming. \\\n",
    "       crEated by guido van Rossum and first released in 1991, python has a design philosophy that emphasizes code readability, \\\n",
    "       notably using significant whitespace. it provides constructs that enable clear programming on both small and large scales.'\n",
    "\n",
    "for char in msg:\n",
    "    if char.isupper():\n",
    "        print(char, end='')"
   ]
  },
  {
   "cell_type": "markdown",
   "metadata": {},
   "source": [
    "you can also iterate on tuples of elements using `zip()`"
   ]
  },
  {
   "cell_type": "code",
   "execution_count": null,
   "metadata": {},
   "outputs": [],
   "source": [
    "country = ['Argentina', 'Brazil', 'Canada']\n",
    "numbers = range(3)\n",
    "\n",
    "for n, c in zip(numbers, country):\n",
    "    print(n, c)"
   ]
  },
  {
   "cell_type": "markdown",
   "metadata": {},
   "source": [
    "We can skip to the next iteration using `continue` or stop the loop entirely with `break`."
   ]
  },
  {
   "cell_type": "code",
   "execution_count": null,
   "metadata": {},
   "outputs": [],
   "source": [
    "# print all numbers that are smaller than 20, except the one that are divisible by 3\n",
    "\n",
    "for i in range(100):\n",
    "    \n",
    "    if i%3 == 0:\n",
    "        continue\n",
    "    \n",
    "    if i > 20:\n",
    "        break\n",
    "        \n",
    "    print(i)"
   ]
  },
  {
   "cell_type": "markdown",
   "metadata": {},
   "source": [
    "### `while` statements\n",
    "\n",
    "It works just like a `for` but based on a **condition** instead of a predefined iterable set. These methods are useful for when you do not know the number of iterations that you need to repeat, for example, when evaluationg a convergence criteria for a numerical method."
   ]
  },
  {
   "cell_type": "code",
   "execution_count": null,
   "metadata": {},
   "outputs": [],
   "source": [
    "i = 0\n",
    "\n",
    "while i <= 5:\n",
    "    print(i)\n",
    "    i += 1"
   ]
  },
  {
   "cell_type": "markdown",
   "metadata": {},
   "source": [
    "---\n",
    "## List Comprehensions\n",
    "List comprehensions are one of Python's most beloved and unique features. You can use `for` statements to create lists."
   ]
  },
  {
   "cell_type": "code",
   "execution_count": null,
   "metadata": {
    "scrolled": true
   },
   "outputs": [],
   "source": [
    "squares = [n**2 for n in range(10)]\n",
    "squares"
   ]
  },
  {
   "cell_type": "markdown",
   "metadata": {},
   "source": [
    "it also allows for more complex interactions"
   ]
  },
  {
   "cell_type": "code",
   "execution_count": null,
   "metadata": {},
   "outputs": [],
   "source": [
    "countries = ['Brasil', 'Argentina', 'Colombia', 'Mexico', 'Canada', 'United States', 'Germany', 'Italy', 'France']\n",
    "\n",
    "[c.upper() for c in countries]"
   ]
  },
  {
   "cell_type": "code",
   "execution_count": null,
   "metadata": {},
   "outputs": [],
   "source": [
    "[c.upper() + '!' for c in countries if len(c) <= 6]"
   ]
  },
  {
   "cell_type": "markdown",
   "metadata": {},
   "source": [
    "---\n",
    "## Custom Functions"
   ]
  },
  {
   "cell_type": "code",
   "execution_count": null,
   "metadata": {},
   "outputs": [],
   "source": [
    "def count_negatives(numbers):\n",
    "\n",
    "    n_negative = 0\n",
    "    for num in numbers:\n",
    "        if num < 0:\n",
    "            n_negative += 1  # same as 'n_negative = n_negative + 1'\n",
    "    return n_negative"
   ]
  },
  {
   "cell_type": "code",
   "execution_count": null,
   "metadata": {},
   "outputs": [],
   "source": [
    "count_negatives([-1, 0, 2, -5])"
   ]
  },
  {
   "cell_type": "code",
   "execution_count": null,
   "metadata": {},
   "outputs": [],
   "source": [
    "def count_negatives(numbers):\n",
    "    return len([n for n in numbers if n < 0])"
   ]
  },
  {
   "cell_type": "code",
   "execution_count": null,
   "metadata": {},
   "outputs": [],
   "source": [
    "count_negatives([-1, 0, 2, -5])"
   ]
  },
  {
   "cell_type": "code",
   "execution_count": null,
   "metadata": {},
   "outputs": [],
   "source": [
    "def is_even(n):\n",
    "    return (n % 2) == 0"
   ]
  },
  {
   "cell_type": "code",
   "execution_count": null,
   "metadata": {},
   "outputs": [],
   "source": [
    "print(is_even(10))\n",
    "print(is_even(11))"
   ]
  },
  {
   "cell_type": "code",
   "execution_count": null,
   "metadata": {},
   "outputs": [],
   "source": [
    "def has_vowel(word):\n",
    "    \n",
    "    vowel_list = ['a', 'e', 'i', 'o', 'u']\n",
    "    vowel_list = vowel_list + [v.upper() for v in vowel_list]\n",
    "    \n",
    "    for vowel in vowel_list:\n",
    "        if vowel in word:\n",
    "            return True\n",
    "    \n",
    "    return False"
   ]
  },
  {
   "cell_type": "code",
   "execution_count": null,
   "metadata": {},
   "outputs": [],
   "source": [
    "has_vowel('Gustavo')"
   ]
  },
  {
   "cell_type": "markdown",
   "metadata": {},
   "source": [
    "Custom functions allow for **self reference** and **verification of inputs**"
   ]
  },
  {
   "cell_type": "code",
   "execution_count": null,
   "metadata": {},
   "outputs": [],
   "source": [
    "def factorial(n):\n",
    "    \n",
    "    assert type(n) is int, \"Input is not an integer\"\n",
    "    assert n >= 0, \"Input is negative\"\n",
    "    \n",
    "    if n == 0 or n == 1:\n",
    "        return 1\n",
    "    \n",
    "    else:\n",
    "        return n * factorial(n-1)"
   ]
  },
  {
   "cell_type": "code",
   "execution_count": null,
   "metadata": {
    "scrolled": true
   },
   "outputs": [],
   "source": [
    "factorial(6)"
   ]
  },
  {
   "cell_type": "markdown",
   "metadata": {},
   "source": [
    "---\n",
    "## Lambda Functions (Anonymous Functions)\n",
    "While normal functions are defined using the `def` keyword, in Python anonymous functions are defined using the `lambda` keyword.\n",
    "Lambda functions are useful to make the code simpler, but if you are going to use a lot, the `def` is preferred."
   ]
  },
  {
   "cell_type": "code",
   "execution_count": null,
   "metadata": {},
   "outputs": [],
   "source": [
    "square = lambda x: x**2\n",
    "square(3)"
   ]
  }
 ],
 "metadata": {
  "kernelspec": {
   "display_name": "Python 3",
   "language": "python",
   "name": "python3"
  },
  "language_info": {
   "codemirror_mode": {
    "name": "ipython",
    "version": 3
   },
   "file_extension": ".py",
   "mimetype": "text/x-python",
   "name": "python",
   "nbconvert_exporter": "python",
   "pygments_lexer": "ipython3",
   "version": "3.6.5"
  }
 },
 "nbformat": 4,
 "nbformat_minor": 2
}

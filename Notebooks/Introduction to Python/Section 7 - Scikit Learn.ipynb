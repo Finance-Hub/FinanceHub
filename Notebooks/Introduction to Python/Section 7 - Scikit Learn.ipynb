{
 "cells": [
  {
   "cell_type": "markdown",
   "metadata": {},
   "source": [
    "# Scikit Learn\n",
    "Following the machine learning hype, this is one the fastest growing python libraries. Scikit Learn has very efficient tools for machine learning that are written in a way that makes them accessible to everybody. The libray is built on top of Numpy, SciPy and matplotlib.\n",
    "\n",
    "The library includes tools for regression, classification, clustering, dimensionality reduction, model selection and preprocessing of data (feature extraction, normalization, etc)."
   ]
  },
  {
   "cell_type": "markdown",
   "metadata": {},
   "source": [
    "![Machine Learning with Scikit Learn](pictures/ml_map.png)"
   ]
  },
  {
   "cell_type": "code",
   "execution_count": null,
   "metadata": {},
   "outputs": [],
   "source": []
  }
 ],
 "metadata": {
  "kernelspec": {
   "display_name": "Python 3",
   "language": "python",
   "name": "python3"
  },
  "language_info": {
   "codemirror_mode": {
    "name": "ipython",
    "version": 3
   },
   "file_extension": ".py",
   "mimetype": "text/x-python",
   "name": "python",
   "nbconvert_exporter": "python",
   "pygments_lexer": "ipython3",
   "version": "3.6.6"
  }
 },
 "nbformat": 4,
 "nbformat_minor": 2
}

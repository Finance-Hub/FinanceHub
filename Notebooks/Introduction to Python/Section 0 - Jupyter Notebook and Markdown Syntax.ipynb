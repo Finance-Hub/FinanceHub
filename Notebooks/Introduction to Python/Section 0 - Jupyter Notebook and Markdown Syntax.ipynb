{
 "cells": [
  {
   "cell_type": "markdown",
   "metadata": {},
   "source": [
    "# Section 0 - Jupyter Notebook and Markdown Syntax\n",
    "\n",
    "## Author: Gustavo Amarante\n",
    "\n",
    "The jupyter environment is made up of **code cells** and **text cells**. Text cells allow you to use not only plain text but also some commands to format it. These commands are called the **Markdown Syntax**. This notebook contains examples of what this syntax can do in the jupyter environment.\n",
    "\n",
    "This formatted text you are reading right now is the result of the code. In order to see how the structures are generated, see the contents of each cell.\n",
    "\n",
    "As you go through this notebook, double-click each cell to see how their contents were generated. The markdown syntax is very intuitive and straightforward.\n",
    "\n",
    "---"
   ]
  },
  {
   "cell_type": "markdown",
   "metadata": {},
   "source": [
    "# Paragraphs\n",
    "\n",
    "Notice that\n",
    "even if you\n",
    "type on diffent lines,\n",
    "they are still rendered\n",
    "as a continous text.\n",
    "In order to start on new line...\n",
    "\n",
    "... you got to leave a blank one in the code.\n",
    "\n",
    "---"
   ]
  },
  {
   "cell_type": "markdown",
   "metadata": {},
   "source": [
    "# Headers\n",
    "When you write `#` followed by a space, the following text will be formatted as a header. There are six levels of headers available, but in practice only the first ones are visibly different.\n",
    "\n",
    "# Header 1\n",
    "## Header 2\n",
    "### Header 3\n",
    "#### Header 4\n",
    "##### Header 5\n",
    "###### Header 6\n",
    "---"
   ]
  },
  {
   "cell_type": "markdown",
   "metadata": {},
   "source": [
    "# Emphasis\n",
    "\n",
    "You can put words between _underscores_ or *asterisks* to get italics.\n",
    "\n",
    "For __bold__ all you have to do is use **two** on each side.\n",
    "\n",
    "You can use both to either _make the **italic** also bold_ or __make what is *bold* also italic__\n",
    "\n",
    "Strikethrough is ~~not~~ an option.\n",
    "\n",
    "But you can also literally use \\*asterisks\\* and \\_underscores\\_. The backslash is the \"escape command\" for the markdown syntax. It is also necessary for symbols like \\! \\` \\+ \\{ \\[\n",
    "\n",
    "___"
   ]
  },
  {
   "cell_type": "markdown",
   "metadata": {},
   "source": [
    "# Lists\n",
    "\n",
    "Any number (does not have to be ordered!) followed by a dot and a space will be turned into a numbered list.\n",
    "1. Here we are starting a numbered list.\n",
    "2. And one thing you should notice is...\n",
    "4. that the actual numbers do not matter\n",
    "8. as long as you start with a number.\n",
    "\n",
    "Any symbol followed by a space will be turned into an intemized list.\n",
    "* Here we are starting an unnumbered list\n",
    "- which be done using the symbols of\n",
    "+ asterisk, plus or minus\n",
    "* but they all turn into a little black ball\n",
    "\n",
    "\n",
    "1. Another possibility is to add\n",
    "    1. subitens to list\n",
    "    1. which also are automatically numbered\n",
    "        1. And this is just for testing\n",
    "            1. how far\n",
    "                1. this subnumbering can go\n",
    "1. so you do not need to worry about numbering them\n",
    "\n",
    "\n",
    "* and of course...\n",
    "    * this also works with\n",
    "        * unnumbered lists\n",
    "    * now this is just filling text\n",
    "* next topic please!\n",
    "\n",
    "___"
   ]
  },
  {
   "cell_type": "markdown",
   "metadata": {},
   "source": [
    "# Separators\n",
    "You may have noticed these very thin grey lines between each section. They can be generated with 3 or more minus signs, underscores or asterisks.\n",
    "\n",
    "---\n",
    "\n",
    "***\n",
    "\n",
    "---\n",
    "\n",
    "___\n",
    "\n",
    "***\n",
    "\n",
    "___"
   ]
  },
  {
   "cell_type": "markdown",
   "metadata": {},
   "source": [
    "# Links to websites\n",
    "\n",
    "If you write the complete address, it recognizes it as a link.\n",
    "\n",
    "https://www.google.com\n",
    "\n",
    "Or you can add links to websites using [this stricture](http://www.google.com) (which is a lot cleaner).\n",
    "\n",
    "---"
   ]
  },
  {
   "cell_type": "markdown",
   "metadata": {},
   "source": [
    "# Images\n",
    "\n",
    "If you use an exclamation mark followed by the same link structure but with the address of a picture, the picture will rendered in the notebook. The address of the picture can be from the web or from your own computer.\n",
    "\n",
    "![This text will not show](https://www.python.org/static/opengraph-icon-200x200.png)\n",
    "\n",
    "---"
   ]
  },
  {
   "cell_type": "markdown",
   "metadata": {},
   "source": [
    "# Tables\n",
    "\n",
    "| Language      | Public         | Difficulty |\n",
    "| ------------- |----------------| ---------- |\n",
    "| python        | Science Nerds  | Fair       |\n",
    "| javascript    | Artsy Nerds    | Hard       |\n",
    "| HTML          | Artsy Non-Nerds| Super Easy |\n",
    "\n",
    "Outer pipes are optional and you do not need to type an organized table...\n",
    "\n",
    "Markdown | Less | Pretty\n",
    "--- | --- | ---\n",
    "*Still* | renders | **nicely**\n",
    "1 | 2 | 3\n",
    "\n",
    "___"
   ]
  },
  {
   "cell_type": "markdown",
   "metadata": {},
   "source": [
    "# Blockquotes\n",
    "This is just a nice formatting trick that can emulate replies or be used as descriptions.\n",
    "\n",
    "> Follow your dreams... \n",
    "> while learning to code\n",
    "\n",
    "---"
   ]
  },
  {
   "cell_type": "markdown",
   "metadata": {},
   "source": [
    "# Code Highlighting\n",
    "When you want to show **code that is not going to run**, or **code from other languages**, use this structure.\n",
    "\n",
    "You can refer to general code `inline` or use the language highlighting\n",
    "\n",
    "#### Python\n",
    "\n",
    "```python\n",
    "import pandas as pd\n",
    "s = \"Python is for real science\"\n",
    "print s\n",
    "```\n",
    "\n",
    "\n",
    "#### Javascript\n",
    "\n",
    "```javascript\n",
    "var s = \"JavaScript is for artsy nerds\";\n",
    "alert(s);\n",
    "```\n",
    "\n",
    "#### HTML\n",
    "\n",
    "```html\n",
    "<title>HTML is for true designers</title>\n",
    "```\n",
    "\n",
    "#### JSON\n",
    "\n",
    "```json\n",
    "{'Name': 'json dictionary'\n",
    " 'Public': 'everyone'}\n",
    "```\n",
    "\n",
    "\n",
    "#### SQL\n",
    "\n",
    "```sql\n",
    "SELECT nerds FROM table1\n",
    "```\n",
    "\n",
    "#### R\n",
    "\n",
    "```R\n",
    "a <- 42\n",
    "A <- a * 2\n",
    "print(a)\n",
    "cat(A, \"\\n\")\n",
    "if(A>a)\n",
    "{\n",
    "  cat(A, \">\", a, \"\\n\")\n",
    "} \n",
    "```\n",
    "\n",
    "#### General Code\n",
    "```\n",
    "just = some + example / code\n",
    "```\n",
    "\n",
    "---"
   ]
  },
  {
   "cell_type": "markdown",
   "metadata": {},
   "source": [
    "# Basic HTML\n",
    "Markdown can render basic HTML in the notebook. you can <font color=\"red\">change text color</font>.\n",
    "\n",
    "Or maybe resizing pictures...\n",
    "\n",
    "<img src=\"https://www.python.org/static/opengraph-icon-200x200.png\" width=\"15%\">\n",
    "\n",
    "---"
   ]
  },
  {
   "cell_type": "markdown",
   "metadata": {},
   "source": [
    "# $\\LaTeX$\n",
    "\n",
    "You can either use inline equation $a^{2} + b^{2} = c^{2}$\n",
    "\n",
    "Or a left-aligned equation:\n",
    "\n",
    "$\n",
    "\\mathcal{L}=\\int_{0}^{N}c_{i}^{\\alpha}di+\\lambda\\left(Y-\\int_{0}^{N}p_{i}c_{i}di\\right)\n",
    "$\n",
    "\n",
    "or a center-aligned equation:\n",
    "\n",
    "$$\n",
    "\\mathcal{L}=\\int_{0}^{N}c_{i}^{\\alpha}di+\\lambda\\left(Y-\\int_{0}^{N}p_{i}c_{i}di\\right)\n",
    "$$\n",
    "\n",
    "If you want to learn more about $\\LaTeX$, see [this link](https://tobi.oetiker.ch/lshort/lshort.pdf)\n",
    "___"
   ]
  },
  {
   "cell_type": "markdown",
   "metadata": {},
   "source": [
    "# Why use the Jupyter environmet?\n",
    "* Replication\n",
    "* No secrets\n",
    "* Good teaching"
   ]
  },
  {
   "cell_type": "markdown",
   "metadata": {},
   "source": [
    "---\n",
    "\n",
    "# Jupyter Code Cells\n",
    "Code cells in jupyter work as a console. When a cell runs, it prints the output of the **last operation**."
   ]
  },
  {
   "cell_type": "code",
   "execution_count": null,
   "metadata": {},
   "outputs": [],
   "source": [
    "2 + 2"
   ]
  },
  {
   "cell_type": "code",
   "execution_count": null,
   "metadata": {},
   "outputs": [],
   "source": [
    "2 + 2\n",
    "3 + 3"
   ]
  },
  {
   "cell_type": "code",
   "execution_count": null,
   "metadata": {},
   "outputs": [],
   "source": [
    "print(2 + 2)\n",
    "3 + 3"
   ]
  },
  {
   "cell_type": "code",
   "execution_count": null,
   "metadata": {},
   "outputs": [],
   "source": [
    "var = 'Hello World'\n",
    "print(var)"
   ]
  }
 ],
 "metadata": {
  "kernelspec": {
   "display_name": "Python 3",
   "language": "python",
   "name": "python3"
  },
  "language_info": {
   "codemirror_mode": {
    "name": "ipython",
    "version": 3
   },
   "file_extension": ".py",
   "mimetype": "text/x-python",
   "name": "python",
   "nbconvert_exporter": "python",
   "pygments_lexer": "ipython3",
   "version": "3.6.5"
  }
 },
 "nbformat": 4,
 "nbformat_minor": 2
}

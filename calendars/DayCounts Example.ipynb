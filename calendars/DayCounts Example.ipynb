{
 "cells": [
  {
   "cell_type": "markdown",
   "metadata": {},
   "source": [
    "# DayCount Class Examples"
   ]
  },
  {
   "cell_type": "code",
   "execution_count": 71,
   "metadata": {},
   "outputs": [],
   "source": [
    "from calendars import DayCounts\n",
    "import pandas as pd\n",
    "from pandas.tseries.offsets import DateOffset"
   ]
  },
  {
   "cell_type": "markdown",
   "metadata": {},
   "source": [
    "```python\n",
    "DayCounts(dc, adj=None, calendar=None, weekmask='Mon Tue Wed Thu Fri', adjoffset=0)\n",
    "```\n",
    "\n",
    "**`dc`**: Valid day count convention, e.g. 'act/360', 'bus/252', 'nl/365'. Currently supported values are listed via static method `dc_domain`.\n",
    "\n",
    "\n",
    "**`adj`**: Accepts `None`(No date adjustment), `following`(next valid date), `preceding`(previous valid date), `modifiedfollowing`(next valid date unless it is across a month boundary, in which case it takes the first valid date earlier in time) or `modifiedpreceding`(previous valid date unless it is across a month boundary, in which case it takes the first valid date later in time).\n",
    "\n",
    "**`calendar`**: If specified, it must be the name of a calendar supported by the Holidays factory class (more details below).\n",
    "\n",
    "**`weekmask`**: str or array-like of bool, default 'Mon Tue Wed Thu Fri'. From numpy.busday_offset: A seven-element array indicating which of Monday through Sunday are valid days. May be specified as a length-seven list or array, like [1,1,1,1,1,0,0]; a length-seven   string, like ‘1111100’; or a string like “Mon Tue Wed Thu Fri”, made up of 3-character abbreviations for weekdays, optionally separated by white space. Valid abbreviations are: Mon Tue Wed Thu Fri Sat Sun.\n",
    "\n",
    "**`adjoffset`**: int. Scalar indicating the offset value that will be used if adjustment rule is not set to None."
   ]
  },
  {
   "cell_type": "markdown",
   "metadata": {},
   "source": [
    "The currently available daycount methods are:"
   ]
  },
  {
   "cell_type": "code",
   "execution_count": 17,
   "metadata": {},
   "outputs": [
    {
     "data": {
      "text/plain": [
       "['NL/365',\n",
       " '1/1',\n",
       " 'BUS/30',\n",
       " 'BUS/252',\n",
       " 'BUS/1',\n",
       " 'BUS/BUS',\n",
       " 'ACT/ACT ISDA',\n",
       " 'ACT/365',\n",
       " 'ACT/365A',\n",
       " 'ACT/365F',\n",
       " 'ACT/364',\n",
       " 'ACT/360',\n",
       " 'ACT/365L',\n",
       " 'ACT/ACT AFB',\n",
       " 'ACT/ACT ICMA',\n",
       " '30A/360',\n",
       " '30E/360',\n",
       " '30E+/360',\n",
       " '30E/360 ISDA',\n",
       " '30U/360']"
      ]
     },
     "execution_count": 17,
     "metadata": {},
     "output_type": "execute_result"
    }
   ],
   "source": [
    "DayCounts.dc_domain()"
   ]
  },
  {
   "cell_type": "markdown",
   "metadata": {},
   "source": [
    "The currently available calendars are:\n",
    "\n",
    "* **Brazil**\n",
    "    * `anbima` (or `bz`)\n",
    "    * `b3_trading`\n",
    "    * `b3_settlement`\n",
    "* **United States**\n",
    "    * `us_trading`: United States Trading Calendar\n",
    "* **LIBOR** (Applicable to all tenors and currencies according to the ICE)\n",
    "    * `libor_base`\n",
    "    * `libor_usd`\n",
    "    * `libor_eur`\n",
    "    * `libor_gbp`\n",
    "    * `libor_gbp_on`\n",
    "    * `libor_chf`\n",
    "    * `libor_chf_on`\n",
    "    * `libor_jpy`\n",
    "    * `libor_jpy_on`\n",
    "* **LIBOR** (Applicable only to the overnight Libor Rate)\n",
    "    * `libor_eur_on`\n",
    "    * `libor_usd_on`"
   ]
  },
  {
   "cell_type": "markdown",
   "metadata": {},
   "source": [
    "Let us create two different day count objects with different calendars and day count methods."
   ]
  },
  {
   "cell_type": "code",
   "execution_count": 72,
   "metadata": {},
   "outputs": [],
   "source": [
    "dc1 = DayCounts('ACT/360', calendar='us_trading')\n",
    "dc2 = DayCounts('BUS/252', calendar='anbima')"
   ]
  },
  {
   "cell_type": "code",
   "execution_count": 73,
   "metadata": {},
   "outputs": [],
   "source": [
    "date1 = pd.to_datetime('2018-07-07')\n",
    "date2 = pd.to_datetime('2019-05-01')"
   ]
  },
  {
   "cell_type": "markdown",
   "metadata": {},
   "source": [
    "### Number of days\n",
    "Number of days (integer) between two dates given day count convention"
   ]
  },
  {
   "cell_type": "code",
   "execution_count": 74,
   "metadata": {},
   "outputs": [
    {
     "name": "stdout",
     "output_type": "stream",
     "text": [
      "298\n",
      "203\n"
     ]
    }
   ],
   "source": [
    "print(dc1.days(date1, date2))\n",
    "print(dc2.days(date1, date2))"
   ]
  },
  {
   "cell_type": "markdown",
   "metadata": {},
   "source": [
    "### Time Fraction\n",
    "Calculates time fraction (in year fraction) between two dates given day count convention"
   ]
  },
  {
   "cell_type": "code",
   "execution_count": 75,
   "metadata": {},
   "outputs": [
    {
     "name": "stdout",
     "output_type": "stream",
     "text": [
      "0.8277777777777777\n",
      "0.8055555555555556\n"
     ]
    }
   ],
   "source": [
    "print(dc1.tf(date1, date2))\n",
    "print(dc2.tf(date1, date2))"
   ]
  },
  {
   "cell_type": "markdown",
   "metadata": {},
   "source": [
    "### Check if business date\n",
    "True if date is a business day"
   ]
  },
  {
   "cell_type": "code",
   "execution_count": 76,
   "metadata": {},
   "outputs": [
    {
     "name": "stdout",
     "output_type": "stream",
     "text": [
      "False\n",
      "True\n"
     ]
    }
   ],
   "source": [
    "print(dc1.isbus(date1))\n",
    "print(dc1.isbus(date2))"
   ]
  },
  {
   "cell_type": "markdown",
   "metadata": {},
   "source": [
    "### Business date roll\n",
    "Rolls business date according to convention specified in roll"
   ]
  },
  {
   "cell_type": "code",
   "execution_count": 77,
   "metadata": {},
   "outputs": [
    {
     "name": "stdout",
     "output_type": "stream",
     "text": [
      "2018-07-09 00:00:00\n",
      "2018-07-06 00:00:00\n"
     ]
    }
   ],
   "source": [
    "print(dc1.busdateroll(date1, 'modifiedfollowing'))\n",
    "print(dc1.busdateroll(date1, 'preceding'))"
   ]
  },
  {
   "cell_type": "markdown",
   "metadata": {},
   "source": [
    "### Wordays offsets\n",
    "Mimics the WORKDAY function in Excel"
   ]
  },
  {
   "cell_type": "code",
   "execution_count": 78,
   "metadata": {},
   "outputs": [
    {
     "name": "stdout",
     "output_type": "stream",
     "text": [
      "2019-04-29 00:00:00\n",
      "2019-05-03 00:00:00\n"
     ]
    }
   ],
   "source": [
    "print(dc2.workday(date2, -2))\n",
    "print(dc2.workday(date2, 2))"
   ]
  },
  {
   "cell_type": "markdown",
   "metadata": {},
   "source": [
    "---\n",
    "# Working with Arrays of dates\n",
    "Every method of the daycount class also accepts DateTimeIndexes or arrays of dates as inputs."
   ]
  },
  {
   "cell_type": "code",
   "execution_count": 79,
   "metadata": {},
   "outputs": [
    {
     "name": "stdout",
     "output_type": "stream",
     "text": [
      "[365 366 366 366 366 366 366 366 366 366 366 366]\n",
      "[249 249 250 251 250 252 251 252 252 250 251 252]\n"
     ]
    }
   ],
   "source": [
    "range1 = pd.date_range('2015-01-01', '2015-12-31', freq='M')\n",
    "range2 = pd.date_range('2016-01-01', '2016-12-31', freq='M')\n",
    "\n",
    "print(dc1.days(range1, range2))\n",
    "print(dc2.days(range1, range2))"
   ]
  },
  {
   "cell_type": "code",
   "execution_count": 80,
   "metadata": {},
   "outputs": [
    {
     "name": "stdout",
     "output_type": "stream",
     "text": [
      "DatetimeIndex(['2015-01-31', '2015-02-28', '2015-03-31', '2015-04-30',\n",
      "               '2015-05-31', '2015-06-30', '2015-07-31', '2015-08-31',\n",
      "               '2015-09-30', '2015-10-31', '2015-11-30', '2015-12-31'],\n",
      "              dtype='datetime64[ns]', freq='M')\n",
      "\n",
      "\n",
      "DatetimeIndex(['2015-02-02', '2015-03-02', '2015-03-31', '2015-04-30',\n",
      "               '2015-06-01', '2015-06-30', '2015-07-31', '2015-08-31',\n",
      "               '2015-09-30', '2015-11-03', '2015-11-30', '2015-12-31'],\n",
      "              dtype='datetime64[ns]', freq=None)\n",
      "\n",
      "\n",
      "DatetimeIndex(['2015-01-30', '2015-02-27', '2015-03-31', '2015-04-30',\n",
      "               '2015-05-29', '2015-06-30', '2015-07-31', '2015-08-31',\n",
      "               '2015-09-30', '2015-10-30', '2015-11-30', '2015-12-31'],\n",
      "              dtype='datetime64[ns]', freq=None)\n"
     ]
    }
   ],
   "source": [
    "print(range1)\n",
    "print('\\n')\n",
    "print(dc2.following(range1))\n",
    "print('\\n')\n",
    "print(dc2.modified_following(range1))\n"
   ]
  },
  {
   "cell_type": "code",
   "execution_count": 82,
   "metadata": {
    "scrolled": true
   },
   "outputs": [
    {
     "name": "stdout",
     "output_type": "stream",
     "text": [
      "DatetimeIndex(['2018-07-07', '2018-10-07', '2019-01-07', '2019-04-07',\n",
      "               '2019-07-07', '2019-10-07', '2020-01-07', '2020-04-07',\n",
      "               '2020-07-07', '2020-10-07', '2021-01-07', '2021-04-07',\n",
      "               '2021-07-07', '2021-10-07', '2022-01-07', '2022-04-07',\n",
      "               '2022-07-07', '2022-10-07', '2023-01-07', '2023-04-07',\n",
      "               '2023-07-07'],\n",
      "              dtype='datetime64[ns]', freq='<DateOffset: months=3>')\n",
      "\n",
      "\n",
      "DatetimeIndex(['2018-07-09', '2018-10-08', '2019-01-07', '2019-04-08',\n",
      "               '2019-07-08', '2019-10-07', '2020-01-07', '2020-04-07',\n",
      "               '2020-07-07', '2020-10-07', '2021-01-07', '2021-04-07',\n",
      "               '2021-07-07', '2021-10-07', '2022-01-07', '2022-04-07',\n",
      "               '2022-07-07', '2022-10-07', '2023-01-09', '2023-04-10',\n",
      "               '2023-07-07'],\n",
      "              dtype='datetime64[ns]', freq=None)\n"
     ]
    }
   ],
   "source": [
    "range1 = pd.date_range(start=date1, end=date1 + DateOffset(years=5), freq=DateOffset(months=3))\n",
    "print(range1)\n",
    "print('\\n')\n",
    "print(dc1.modified_following(range1))"
   ]
  }
 ],
 "metadata": {
  "kernelspec": {
   "display_name": "Python 3",
   "language": "python",
   "name": "python3"
  },
  "language_info": {
   "codemirror_mode": {
    "name": "ipython",
    "version": 3
   },
   "file_extension": ".py",
   "mimetype": "text/x-python",
   "name": "python",
   "nbconvert_exporter": "python",
   "pygments_lexer": "ipython3",
   "version": "3.6.8"
  }
 },
 "nbformat": 4,
 "nbformat_minor": 2
}

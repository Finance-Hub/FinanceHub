{
 "cells": [
  {
   "cell_type": "markdown",
   "metadata": {},
   "source": [
    "# Object Oriented Programming (OOP)\n",
    "\n",
    "## Author: Gustavo Amarante"
   ]
  },
  {
   "cell_type": "markdown",
   "metadata": {},
   "source": [
    "There are advantages in using objects in programming:\n",
    "* Keeps code clean\n",
    "* Avoids code duplication\n",
    "* Makes models scalable\n",
    "* Objects can interact with each other\n",
    "* A python library is basically a collection of functions and objects\n",
    "\n",
    "### Atributes and Methods\n",
    "\n",
    "We have been using a lot of python objects. Take for example a pandas DataFrame and a numpy array. They are both objects, but each of them have different **atributes** and **methods** because they are from different classes.\n",
    "\n",
    "* An **atribute** is a *static charaterisc* of the object.\n",
    "* A **method** is an *operation/action* that can only be applied to a specific type of object. A method requires the use of parenthesis.\n",
    "\n",
    "**`DataFrame.index`** is an atribute of a pandas DataFrame.\n",
    "\n",
    "**`DataFrame.mean()`** is a method of a pandas DataFrame.\n",
    "\n",
    "**`array.shape`** is an atribute of a numpy array.\n",
    "\n",
    "**`array.flatten()`** is a method of a numpy array.\n",
    "\n",
    "### Class VS Instance\n",
    "\n",
    "Think of a class as a generic/mutable object. An example of a class is a pandas DataFrame. Now consider the following command:\n",
    "\n",
    "```python\n",
    "df = pd.DataFrame(index=my_dates, columns=my_vars, data=my_data)\n",
    "```\n",
    "\n",
    "Now, `df` is an **instance** of a DataFrame object. We have given `df` a few of its atributes (index, columns and data) and as it is instaciated (constructed) it builds some other atributes (like shape). Since `df` is from the pandas DataFrame class, it inherits all of the DataFrame methods (like mean, interpolate, rolling, etc).\n",
    "\n",
    "### Classic Example for Intuition\n",
    "\n",
    "Take the class of **cars**:\n",
    "* All cars have 4 wheels and an engine - These are **class atributes**\n",
    "* A car can be black and have a 2.0 engine - These are **instance atributes**\n",
    "* All cars can accelarate and break - These are **class methods**"
   ]
  },
  {
   "cell_type": "markdown",
   "metadata": {},
   "source": [
    "---\n",
    "# Building a Custom Object\n",
    "\n",
    "This is going to be a basic example, just to understand the sintax of OOP in python.\n",
    "\n",
    "Suppose we have a company called FinanceHub and we are going to hire a few employees. In order to store their information in our database, we are going to create an `employee` class as a python object."
   ]
  },
  {
   "cell_type": "code",
   "execution_count": 1,
   "metadata": {},
   "outputs": [],
   "source": [
    "class Employee(object):\n",
    "    pass  # This means that the class is empty"
   ]
  },
  {
   "cell_type": "markdown",
   "metadata": {},
   "source": [
    "We can look at the type of the object"
   ]
  },
  {
   "cell_type": "code",
   "execution_count": 2,
   "metadata": {
    "scrolled": true
   },
   "outputs": [
    {
     "data": {
      "text/plain": [
       "__main__.Employee"
      ]
     },
     "execution_count": 2,
     "metadata": {},
     "output_type": "execute_result"
    }
   ],
   "source": [
    "emp = Employee()\n",
    "\n",
    "type(emp)"
   ]
  },
  {
   "cell_type": "markdown",
   "metadata": {},
   "source": [
    "We could also give it a few atrubutes"
   ]
  },
  {
   "cell_type": "code",
   "execution_count": 3,
   "metadata": {},
   "outputs": [],
   "source": [
    "emp.first_name = 'Gustavo'\n",
    "emp.last_name = 'Amarante'\n",
    "emp.email = 'g.amarante@financehub.com'\n",
    "emp.salary = 100"
   ]
  },
  {
   "cell_type": "markdown",
   "metadata": {},
   "source": [
    "This atributes can be accessed"
   ]
  },
  {
   "cell_type": "code",
   "execution_count": 4,
   "metadata": {
    "scrolled": true
   },
   "outputs": [
    {
     "data": {
      "text/plain": [
       "100"
      ]
     },
     "execution_count": 4,
     "metadata": {},
     "output_type": "execute_result"
    }
   ],
   "source": [
    "emp.salary"
   ]
  },
  {
   "cell_type": "markdown",
   "metadata": {},
   "source": [
    "We can now elaborate the class to make it a bit more helpful. For that we need a **constructor**, which is \"what the class does when it is instaciated\".\n",
    "\n",
    "In python `self` refers to the instance."
   ]
  },
  {
   "cell_type": "code",
   "execution_count": 5,
   "metadata": {},
   "outputs": [],
   "source": [
    "class Employee(object):\n",
    "    \n",
    "    def __init__(self, first, last, salary=100):\n",
    "        self.first = first\n",
    "        self.last = last\n",
    "        self.salary = salary\n",
    "        self.email = first.lower()[0] + '.' + last.lower() + '@financehub.com'"
   ]
  },
  {
   "cell_type": "markdown",
   "metadata": {},
   "source": [
    "Now, to create the employee entry all we have to do is the following"
   ]
  },
  {
   "cell_type": "code",
   "execution_count": 6,
   "metadata": {},
   "outputs": [],
   "source": [
    "emp = Employee('Gustavo', 'Amarante')"
   ]
  },
  {
   "cell_type": "code",
   "execution_count": 7,
   "metadata": {},
   "outputs": [
    {
     "data": {
      "text/plain": [
       "'g.amarante@financehub.com'"
      ]
     },
     "execution_count": 7,
     "metadata": {},
     "output_type": "execute_result"
    }
   ],
   "source": [
    "emp.email"
   ]
  },
  {
   "cell_type": "markdown",
   "metadata": {},
   "source": [
    "Now lets add a method that increases the salary and another one that computes the yearly income."
   ]
  },
  {
   "cell_type": "code",
   "execution_count": 8,
   "metadata": {},
   "outputs": [],
   "source": [
    "class Employee(object):\n",
    "    \n",
    "    company = 'FinanceHub'\n",
    "    \n",
    "    def __init__(self, first, last, salary=100):\n",
    "        self.first = first\n",
    "        self.last = last\n",
    "        self.salary = salary\n",
    "        self.email = first.lower()[0] + '.' + last.lower() + '@financehub.com'\n",
    "        \n",
    "    def give_raise(self, ammount=100):\n",
    "        self.salary = self.salary + ammount\n",
    "        \n",
    "    def yearly_income(self, bonus=0):\n",
    "        yi = 12 * self.salary + bonus\n",
    "        return yi"
   ]
  },
  {
   "cell_type": "code",
   "execution_count": 9,
   "metadata": {},
   "outputs": [
    {
     "data": {
      "text/plain": [
       "100"
      ]
     },
     "execution_count": 9,
     "metadata": {},
     "output_type": "execute_result"
    }
   ],
   "source": [
    "emp = Employee('Buzz', 'Lightyear')\n",
    "emp.salary"
   ]
  },
  {
   "cell_type": "code",
   "execution_count": 10,
   "metadata": {},
   "outputs": [
    {
     "data": {
      "text/plain": [
       "'FinanceHub'"
      ]
     },
     "execution_count": 10,
     "metadata": {},
     "output_type": "execute_result"
    }
   ],
   "source": [
    "emp.company"
   ]
  },
  {
   "cell_type": "markdown",
   "metadata": {},
   "source": [
    "Notice that the `give_raise()` method does not return any values, it just changes the salary atribute of the employee instance."
   ]
  },
  {
   "cell_type": "code",
   "execution_count": 11,
   "metadata": {},
   "outputs": [],
   "source": [
    "emp.give_raise(200)"
   ]
  },
  {
   "cell_type": "code",
   "execution_count": 12,
   "metadata": {},
   "outputs": [
    {
     "data": {
      "text/plain": [
       "300"
      ]
     },
     "execution_count": 12,
     "metadata": {},
     "output_type": "execute_result"
    }
   ],
   "source": [
    "emp.salary"
   ]
  },
  {
   "cell_type": "code",
   "execution_count": 13,
   "metadata": {},
   "outputs": [
    {
     "data": {
      "text/plain": [
       "3600"
      ]
     },
     "execution_count": 13,
     "metadata": {},
     "output_type": "execute_result"
    }
   ],
   "source": [
    "emp.yearly_income()"
   ]
  },
  {
   "cell_type": "code",
   "execution_count": 14,
   "metadata": {},
   "outputs": [
    {
     "data": {
      "text/plain": [
       "4000"
      ]
     },
     "execution_count": 14,
     "metadata": {},
     "output_type": "execute_result"
    }
   ],
   "source": [
    "emp.yearly_income(400)"
   ]
  },
  {
   "cell_type": "markdown",
   "metadata": {},
   "source": [
    "This `employee` object does not have the tradional python commands available. But we can set them the way want/need. Python-specific methods are noted by being in between two underscores."
   ]
  },
  {
   "cell_type": "code",
   "execution_count": 15,
   "metadata": {
    "scrolled": true
   },
   "outputs": [
    {
     "name": "stdout",
     "output_type": "stream",
     "text": [
      "<__main__.Employee object at 0x000001FE263E2EB8>\n"
     ]
    }
   ],
   "source": [
    "print(emp)"
   ]
  },
  {
   "cell_type": "code",
   "execution_count": 16,
   "metadata": {},
   "outputs": [],
   "source": [
    "class Employee(object):\n",
    "    \n",
    "    def __init__(self, first, last, salary=100):\n",
    "        self.first = first\n",
    "        self.last = last\n",
    "        self.salary = salary\n",
    "        self.email = first.lower()[0] + '.' + last.lower() + '@financehub.com'\n",
    "        \n",
    "    def give_raise(self, ammount=100):\n",
    "        self.salary = self.salary + ammount\n",
    "        \n",
    "    def yearly_income(self, bonus=0):\n",
    "        yi = 12 * self.salary + bonus\n",
    "        return yi\n",
    "    \n",
    "    def __str__(self):\n",
    "        msg = 'Name: ' + self.first + ' ' + self.last + '\\nSalary: ' + str(self.salary)\n",
    "        return msg"
   ]
  },
  {
   "cell_type": "code",
   "execution_count": 17,
   "metadata": {},
   "outputs": [
    {
     "name": "stdout",
     "output_type": "stream",
     "text": [
      "Name: Gustavo Amarante\n",
      "Salary: 100\n"
     ]
    }
   ],
   "source": [
    "emp = Employee('Gustavo', 'Amarante')\n",
    "print(emp)"
   ]
  },
  {
   "cell_type": "markdown",
   "metadata": {},
   "source": [
    "There is still a lot to learn about OOP, like other types of python operations, operations between objects, class inheritance, metaclasses and much more. But what we've seen so far is enough to get you going.\n",
    "\n",
    "---\n",
    "\n",
    "# Why is OOP helpful for us at the FinanceHub?\n",
    "\n",
    "**Short answer**: to make everything scalable."
   ]
  }
 ],
 "metadata": {
  "kernelspec": {
   "display_name": "Python 3",
   "language": "python",
   "name": "python3"
  },
  "language_info": {
   "codemirror_mode": {
    "name": "ipython",
    "version": 3
   },
   "file_extension": ".py",
   "mimetype": "text/x-python",
   "name": "python",
   "nbconvert_exporter": "python",
   "pygments_lexer": "ipython3",
   "version": "3.6.5"
  }
 },
 "nbformat": 4,
 "nbformat_minor": 2
}

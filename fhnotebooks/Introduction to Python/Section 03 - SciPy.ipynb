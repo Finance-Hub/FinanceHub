{
 "cells": [
  {
   "cell_type": "markdown",
   "metadata": {},
   "source": [
    "# SciPy\n",
    "## Author: Gustavo Amarante\n",
    "SciPy is a collection of mathematical algorithms and convenience functions. In this this notebook there are just a few examples of the features that are most important to us. But if you want to see all that SciPy has to offer, have a look at the [official documentation](https://docs.scipy.org/doc/scipy/reference/).\n",
    "\n",
    "Since SciPy has several subpackages, it is commom practice to import just the one we are going to use, as you'll in the following examples."
   ]
  },
  {
   "cell_type": "code",
   "execution_count": 1,
   "metadata": {},
   "outputs": [],
   "source": [
    "import numpy as np\n",
    "import matplotlib as mpl\n",
    "import matplotlib.pyplot as plt"
   ]
  },
  {
   "cell_type": "markdown",
   "metadata": {},
   "source": [
    "# Definite Integrals\n",
    "The function `quad` is provided to integrate a function of one variable between two points. This functions has 2 outputs, the first one is the computed integral value and the second is an estimate of the absolute error."
   ]
  },
  {
   "cell_type": "code",
   "execution_count": 2,
   "metadata": {},
   "outputs": [
    {
     "data": {
      "text/plain": [
       "(2.666666666666667, 2.960594732333751e-14)"
      ]
     },
     "execution_count": 2,
     "metadata": {},
     "output_type": "execute_result"
    }
   ],
   "source": [
    "import scipy.integrate as integrate\n",
    "\n",
    "def my_func(x):\n",
    "    return x**2\n",
    "\n",
    "integrate.quad(my_func, 0, 2)"
   ]
  },
  {
   "cell_type": "markdown",
   "metadata": {},
   "source": [
    "The `quad` functions also allows for infinite limits.\n",
    "\n",
    "$$\n",
    "\\int_{-\\infty}^{\\infty} e^{-x^{2}}dx\n",
    "$$"
   ]
  },
  {
   "cell_type": "code",
   "execution_count": 3,
   "metadata": {},
   "outputs": [
    {
     "data": {
      "text/plain": [
       "(1.7724538509055159, 1.4202636780944923e-08)"
      ]
     },
     "execution_count": 3,
     "metadata": {},
     "output_type": "execute_result"
    }
   ],
   "source": [
    "def my_func(x):\n",
    "    return np.exp(-x**2)\n",
    "\n",
    "integrate.quad(my_func, -np.inf, np.inf)"
   ]
  },
  {
   "cell_type": "markdown",
   "metadata": {},
   "source": [
    "SciPy's `integrate` library also has functions for double and triple integrals. Check them out in the documentations."
   ]
  },
  {
   "cell_type": "markdown",
   "metadata": {},
   "source": [
    "# Optimization\n",
    "The `scipy.optimize` package provides several commonly used optimization algorithms. Here we are going to use just one to illustrate.\n",
    "\n",
    "Consider that you have 3 assets available. Their expected returns, risks (standard-deviations) and betas are on the table bellow and $\\rho$ is the correlation matrix of the returns.\n",
    "\n",
    "| Asset | Return | Risk | Beta |\n",
    "|-------|--------|------|------|\n",
    "|A      |3%      | 10%  | 0.5  |\n",
    "|B      |3.5%    | 11%  | 1.2  |\n",
    "|C      |5%      | 15%  | 1.8  |\n",
    "\n",
    "$$\n",
    "\\rho = \n",
    "\\begin{bmatrix}\n",
    "1 & 0.3 & -0.6 \\\\\n",
    "0.3 & 1 & 0 \\\\\n",
    "-0.6 & 0 & 1 \n",
    "\\end{bmatrix}\n",
    "$$\n",
    "\n",
    "Use the `minimize` function to find the weights of each asset that maximizes it's Sharpe index."
   ]
  },
  {
   "cell_type": "code",
   "execution_count": 4,
   "metadata": {},
   "outputs": [],
   "source": [
    "retu = np.array([0.03, 0.035, 0.05])\n",
    "risk = np.array([0.10, 0.11, 0.15])\n",
    "beta = np.array([0.5, 1.2, 1.8])\n",
    "\n",
    "corr = np.array([[1, 0.3, -0.6], \n",
    "                 [0.3, 1, 0],\n",
    "                 [-0.6, 0, 1]])\n",
    "\n",
    "def port_return(w):\n",
    "    return retu.dot(w)\n",
    "\n",
    "def port_risk(w):\n",
    "    covar = np.diag(risk).dot(corr).dot(np.diag(risk))\n",
    "    return (w.dot(covar).dot(w))**0.5\n",
    "\n",
    "def port_sharpe(w):\n",
    "    return -1*(port_return(w) / port_risk(w))   # The -1 is because we want to MINIMIZE the negative of the Sharpe\n",
    "\n",
    "def port_weight(w):\n",
    "    return w.sum()"
   ]
  },
  {
   "cell_type": "markdown",
   "metadata": {},
   "source": [
    "When declaring an optimization problem with inequality restrictions, they have the form of:\n",
    "\n",
    "$$\n",
    "\\begin{align*}\n",
    "\\min_{w} & f\\left(w\\right)\\\\\n",
    "s.t. & g\\left(w\\right)\\geq0\n",
    "\\end{align*}\n",
    "$$"
   ]
  },
  {
   "cell_type": "code",
   "execution_count": 5,
   "metadata": {},
   "outputs": [
    {
     "name": "stdout",
     "output_type": "stream",
     "text": [
      "Optimization terminated successfully.    (Exit mode 0)\n",
      "            Current function value: -0.7140791324512301\n",
      "            Iterations: 7\n",
      "            Function evaluations: 37\n",
      "            Gradient evaluations: 7\n"
     ]
    }
   ],
   "source": [
    "from scipy.optimize import minimize\n",
    "\n",
    "eq_cons = {'type': 'eq',\n",
    "           'fun' : lambda w: port_weight(w) - 1}\n",
    "\n",
    "w0 = np.array([1, 0, 0])\n",
    "\n",
    "res = minimize(port_sharpe, w0, method='SLSQP', constraints=eq_cons, options={'ftol': 1e-9, 'disp': True})"
   ]
  },
  {
   "cell_type": "code",
   "execution_count": 6,
   "metadata": {},
   "outputs": [
    {
     "data": {
      "text/plain": [
       "array([0.54864871, 0.06613309, 0.3852182 ])"
      ]
     },
     "execution_count": 6,
     "metadata": {},
     "output_type": "execute_result"
    }
   ],
   "source": [
    "res.x"
   ]
  },
  {
   "cell_type": "code",
   "execution_count": 7,
   "metadata": {},
   "outputs": [
    {
     "data": {
      "text/plain": [
       "1.0"
      ]
     },
     "execution_count": 7,
     "metadata": {},
     "output_type": "execute_result"
    }
   ],
   "source": [
    "res.x.sum()"
   ]
  },
  {
   "cell_type": "code",
   "execution_count": 8,
   "metadata": {},
   "outputs": [
    {
     "data": {
      "text/plain": [
       "0.7140791324512301"
      ]
     },
     "execution_count": 8,
     "metadata": {},
     "output_type": "execute_result"
    }
   ],
   "source": [
    "-1*res.fun"
   ]
  },
  {
   "cell_type": "markdown",
   "metadata": {},
   "source": [
    "# Interpolation\n",
    "There are several general interpolation facilities available in SciPy, for data in 1, 2, and higher dimensions. The `interp1d` funtions grabs data points and returns a function. The default interpolation method is the linear interpolation, but there are several to choose from."
   ]
  },
  {
   "cell_type": "code",
   "execution_count": 9,
   "metadata": {},
   "outputs": [],
   "source": [
    "from scipy.interpolate import interp1d\n",
    "\n",
    "x = np.linspace(0, 10, num=11, endpoint=True)\n",
    "y = np.cos(-x**2/9.0)"
   ]
  },
  {
   "cell_type": "code",
   "execution_count": 10,
   "metadata": {
    "scrolled": true
   },
   "outputs": [],
   "source": [
    "f1 = interp1d(x, y)  # linear is the default\n",
    "f2 = interp1d(x, y, kind='cubic')  # cubic splines\n",
    "f3 = interp1d(x, y, kind='nearest')  # grab the nearest value\n",
    "f4 = interp1d(x, y, kind='previous')  # hold last value\n",
    "f5 = interp1d(x, y, kind='next')  # grab the next value"
   ]
  },
  {
   "cell_type": "markdown",
   "metadata": {},
   "source": [
    "Now that we have the interpolated function, lets generate more points for the x axis and plot the different methods"
   ]
  },
  {
   "cell_type": "code",
   "execution_count": 11,
   "metadata": {},
   "outputs": [
    {
     "data": {
      "text/plain": [
       "array([ 0.  ,  0.25,  0.5 ,  0.75,  1.  ,  1.25,  1.5 ,  1.75,  2.  ,\n",
       "        2.25,  2.5 ,  2.75,  3.  ,  3.25,  3.5 ,  3.75,  4.  ,  4.25,\n",
       "        4.5 ,  4.75,  5.  ,  5.25,  5.5 ,  5.75,  6.  ,  6.25,  6.5 ,\n",
       "        6.75,  7.  ,  7.25,  7.5 ,  7.75,  8.  ,  8.25,  8.5 ,  8.75,\n",
       "        9.  ,  9.25,  9.5 ,  9.75, 10.  ])"
      ]
     },
     "execution_count": 11,
     "metadata": {},
     "output_type": "execute_result"
    }
   ],
   "source": [
    "xnew = np.linspace(0, 10, num=41, endpoint=True)\n",
    "xnew"
   ]
  },
  {
   "cell_type": "code",
   "execution_count": 12,
   "metadata": {},
   "outputs": [
    {
     "data": {
      "image/png": "[encoded data removed]",
      "text/plain": [
       "<Figure size 432x288 with 1 Axes>"
      ]
     },
     "metadata": {},
     "output_type": "display_data"
    }
   ],
   "source": [
    "plt.plot(x, y, 'o', xnew, f1(xnew), '-', xnew, f2(xnew), '--')\n",
    "plt.legend(['data', 'linear', 'cubic'], loc='best')\n",
    "plt.show()"
   ]
  },
  {
   "cell_type": "code",
   "execution_count": 13,
   "metadata": {},
   "outputs": [
    {
     "data": {
      "image/png": "[encoded data removed]",
      "text/plain": [
       "<Figure size 432x288 with 1 Axes>"
      ]
     },
     "metadata": {},
     "output_type": "display_data"
    }
   ],
   "source": [
    "plt.plot(x, y, 'o', xnew, f3(xnew), '-', xnew, f4(xnew), '--', xnew, f5(xnew), ':')\n",
    "plt.legend(['data', 'nearest', 'previous', 'next'], loc='best')\n",
    "plt.show()"
   ]
  },
  {
   "cell_type": "markdown",
   "metadata": {},
   "source": [
    "The `interpolate` sublibrary also has interpolation methods for multivariate data and has **integration with pandas**. Have a look at the documentation."
   ]
  },
  {
   "cell_type": "markdown",
   "metadata": {},
   "source": [
    "# Linear Algebra (again)\n",
    "`scipy.linalg` contains all the functions in `numpy.linalg` plus some more advanced ones."
   ]
  },
  {
   "cell_type": "code",
   "execution_count": 14,
   "metadata": {},
   "outputs": [
    {
     "data": {
      "text/plain": [
       "array([[-1.48,  0.36,  0.88],\n",
       "       [ 0.56,  0.08, -0.36],\n",
       "       [ 0.16, -0.12,  0.04]])"
      ]
     },
     "execution_count": 14,
     "metadata": {},
     "output_type": "execute_result"
    }
   ],
   "source": [
    "from scipy import linalg as la\n",
    "\n",
    "A = np.array([[1,3,5],[2,5,1],[2,3,8]])\n",
    "la.inv(A)"
   ]
  },
  {
   "cell_type": "markdown",
   "metadata": {},
   "source": [
    "Matrix and vector **norms** can also be computed with SciPy. A wide range of norm definitions are available using different parameters to the order argument of `linalg.norm`."
   ]
  },
  {
   "cell_type": "code",
   "execution_count": 15,
   "metadata": {},
   "outputs": [
    {
     "name": "stdout",
     "output_type": "stream",
     "text": [
      "5.477225575051661\n",
      "6.0\n",
      "7.0\n"
     ]
    }
   ],
   "source": [
    "A = np.array([[1, 2], [3, 4]])\n",
    "print(la.norm(A))  # frobenius norm is the default.\n",
    "print(la.norm(A, 1)) # L1 norm (max column sum)\n",
    "print(la.norm(A, np.inf)) # L inf norm (max row sum)"
   ]
  },
  {
   "cell_type": "markdown",
   "metadata": {},
   "source": [
    "Some more advanced matrix decompositions are also available, like the **Schur Decomposition**"
   ]
  },
  {
   "cell_type": "code",
   "execution_count": 16,
   "metadata": {},
   "outputs": [
    {
     "data": {
      "text/plain": [
       "(array([[-0.37228132, -1.        ],\n",
       "        [ 0.        ,  5.37228132]]), array([[-0.82456484, -0.56576746],\n",
       "        [ 0.56576746, -0.82456484]]))"
      ]
     },
     "execution_count": 16,
     "metadata": {},
     "output_type": "execute_result"
    }
   ],
   "source": [
    "la.schur(A)"
   ]
  },
  {
   "cell_type": "markdown",
   "metadata": {},
   "source": [
    "Some notable matrices can also be created, like block **diagonal matrices**."
   ]
  },
  {
   "cell_type": "code",
   "execution_count": 17,
   "metadata": {},
   "outputs": [
    {
     "data": {
      "text/plain": [
       "array([[1, 0, 0, 0, 0, 0],\n",
       "       [0, 1, 0, 0, 0, 0],\n",
       "       [0, 0, 3, 4, 5, 0],\n",
       "       [0, 0, 6, 7, 8, 0],\n",
       "       [0, 0, 0, 0, 0, 7]])"
      ]
     },
     "execution_count": 17,
     "metadata": {},
     "output_type": "execute_result"
    }
   ],
   "source": [
    "A = np.array([[1, 0],\n",
    "              [0, 1]])\n",
    "\n",
    "B = np.array([[3, 4, 5],\n",
    "              [6, 7, 8]])\n",
    "\n",
    "C = np.array([[7]])\n",
    "\n",
    "la.block_diag(A, B, C)"
   ]
  },
  {
   "cell_type": "markdown",
   "metadata": {},
   "source": [
    "# Solving Linear Systems\n",
    "\n",
    "\n",
    "$$\n",
    "\\begin{align}\n",
    "x+3y+5 & =10\\\\\n",
    "2x+5y+z & =8\\\\\n",
    "2x+3y+8z & =3\n",
    "\\end{align}\n",
    "$$\n",
    "\n",
    "The system above can be written with matrix notation as $AX=B$ and we know we can find the solution by doing $X=A^{-1}B$, but inverting a matrix is computationally expensive. When solving big linear system it is advised to use the `solve` method."
   ]
  },
  {
   "cell_type": "code",
   "execution_count": 18,
   "metadata": {},
   "outputs": [],
   "source": [
    "A = np.array([[1, 3, 5], [2, 5, 1], [2, 3, 8]])\n",
    "B = np.array([[10], [8], [3]])"
   ]
  },
  {
   "cell_type": "markdown",
   "metadata": {},
   "source": [
    "Lets check the time that it takes to solve the system in both ways..."
   ]
  },
  {
   "cell_type": "code",
   "execution_count": 19,
   "metadata": {},
   "outputs": [
    {
     "data": {
      "text/plain": [
       "array([[-9.28],\n",
       "       [ 5.16],\n",
       "       [ 0.76]])"
      ]
     },
     "execution_count": 19,
     "metadata": {},
     "output_type": "execute_result"
    }
   ],
   "source": [
    "la.inv(A).dot(B)"
   ]
  },
  {
   "cell_type": "code",
   "execution_count": 20,
   "metadata": {},
   "outputs": [
    {
     "data": {
      "text/plain": [
       "array([[-9.28],\n",
       "       [ 5.16],\n",
       "       [ 0.76]])"
      ]
     },
     "execution_count": 20,
     "metadata": {},
     "output_type": "execute_result"
    }
   ],
   "source": [
    "la.solve(A, B)"
   ]
  },
  {
   "cell_type": "markdown",
   "metadata": {},
   "source": [
    "let's try with a bigger matrix"
   ]
  },
  {
   "cell_type": "code",
   "execution_count": 21,
   "metadata": {},
   "outputs": [],
   "source": [
    "import numpy.random as rnd\n",
    "A = rnd.random((1000, 1000))\n",
    "B = rnd.random((1000, 1))"
   ]
  },
  {
   "cell_type": "code",
   "execution_count": 27,
   "metadata": {},
   "outputs": [
    {
     "name": "stdout",
     "output_type": "stream",
     "text": [
      "28.8 ms ± 1.98 ms per loop (mean ± std. dev. of 7 runs, 10 loops each)\n"
     ]
    }
   ],
   "source": [
    "%%timeit\n",
    "la.inv(A).dot(B)"
   ]
  },
  {
   "cell_type": "code",
   "execution_count": 28,
   "metadata": {},
   "outputs": [
    {
     "name": "stdout",
     "output_type": "stream",
     "text": [
      "14.9 ms ± 495 µs per loop (mean ± std. dev. of 7 runs, 100 loops each)\n"
     ]
    }
   ],
   "source": [
    "%%timeit\n",
    "la.solve(A, B)"
   ]
  },
  {
   "cell_type": "markdown",
   "metadata": {},
   "source": [
    "# SciPy\n",
    "## Author: Gustavo Amarante\n",
    "SciPy is a collection of mathematical algorithms and convenience functions. In this this notebook there are just a few examples of the features that are most important to us. But if you want to see all that SciPy has to offer, have a look at the [official documentation](https://docs.scipy.org/doc/scipy/reference/).\n",
    "\n",
    "Since SciPy has several subpackages, it is commom practice to import just the one we are going to use, as you'll in the following examples."
   ]
  },
  {
   "cell_type": "code",
   "execution_count": 1,
   "metadata": {},
   "outputs": [],
   "source": [
    "import numpy as np\n",
    "import matplotlib as mpl\n",
    "import matplotlib.pyplot as plt"
   ]
  },
  {
   "cell_type": "markdown",
   "metadata": {},
   "source": [
    "# Definite Integrals\n",
    "The function `quad` is provided to integrate a function of one variable between two points. This functions has 2 outputs, the first one is the computed integral value and the second is an estimate of the absolute error."
   ]
  },
  {
   "cell_type": "code",
   "execution_count": 2,
   "metadata": {},
   "outputs": [
    {
     "data": {
      "text/plain": [
       "(2.666666666666667, 2.960594732333751e-14)"
      ]
     },
     "execution_count": 2,
     "metadata": {},
     "output_type": "execute_result"
    }
   ],
   "source": [
    "import scipy.integrate as integrate\n",
    "\n",
    "def my_func(x):\n",
    "    return x**2\n",
    "\n",
    "integrate.quad(my_func, 0, 2)"
   ]
  },
  {
   "cell_type": "markdown",
   "metadata": {},
   "source": [
    "The `quad` functions also allows for infinite limits.\n",
    "\n",
    "$$\n",
    "\\int_{-\\infty}^{\\infty} e^{-x^{2}}dx\n",
    "$$"
   ]
  },
  {
   "cell_type": "code",
   "execution_count": 3,
   "metadata": {},
   "outputs": [
    {
     "data": {
      "text/plain": [
       "(1.7724538509055159, 1.4202636780944923e-08)"
      ]
     },
     "execution_count": 3,
     "metadata": {},
     "output_type": "execute_result"
    }
   ],
   "source": [
    "def my_func(x):\n",
    "    return np.exp(-x**2)\n",
    "\n",
    "integrate.quad(my_func, -np.inf, np.inf)"
   ]
  },
  {
   "cell_type": "markdown",
   "metadata": {},
   "source": [
    "SciPy's `integrate` library also has functions for double and triple integrals. Check them out in the documentations."
   ]
  },
  {
   "cell_type": "markdown",
   "metadata": {},
   "source": [
    "# Optimization\n",
    "The `scipy.optimize` package provides several commonly used optimization algorithms. Here we are going to use just one to illustrate.\n",
    "\n",
    "Consider that you have 3 assets available. Their expected returns, risks (standard-deviations) and betas are on the table bellow and $\\rho$ is the correlation matrix of the returns.\n",
    "\n",
    "| Asset | Return | Risk | Beta |\n",
    "|-------|--------|------|------|\n",
    "|A      |3%      | 10%  | 0.5  |\n",
    "|B      |3.5%    | 11%  | 1.2  |\n",
    "|C      |5%      | 15%  | 1.8  |\n",
    "\n",
    "$$\n",
    "\\rho = \n",
    "\\begin{bmatrix}\n",
    "1 & 0.3 & -0.6 \\\\\n",
    "0.3 & 1 & 0 \\\\\n",
    "-0.6 & 0 & 1 \n",
    "\\end{bmatrix}\n",
    "$$\n",
    "\n",
    "Use the `minimize` function to find the weights of each asset that maximizes it's Sharpe index."
   ]
  },
  {
   "cell_type": "code",
   "execution_count": 4,
   "metadata": {},
   "outputs": [],
   "source": [
    "retu = np.array([0.03, 0.035, 0.05])\n",
    "risk = np.array([0.10, 0.11, 0.15])\n",
    "beta = np.array([0.5, 1.2, 1.8])\n",
    "\n",
    "corr = np.array([[1, 0.3, -0.6], \n",
    "                 [0.3, 1, 0],\n",
    "                 [-0.6, 0, 1]])\n",
    "\n",
    "def port_return(w):\n",
    "    return retu.dot(w)\n",
    "\n",
    "def port_risk(w):\n",
    "    covar = np.diag(risk).dot(corr).dot(np.diag(risk))\n",
    "    return (w.dot(covar).dot(w))**0.5\n",
    "\n",
    "def port_sharpe(w):\n",
    "    return -1*(port_return(w) / port_risk(w))   # The -1 is because we want to MINIMIZE the negative of the Sharpe\n",
    "\n",
    "def port_weight(w):\n",
    "    return w.sum()"
   ]
  },
  {
   "cell_type": "markdown",
   "metadata": {},
   "source": [
    "When declaring an optimization problem with inequality restrictions, they have the form of:\n",
    "\n",
    "$$\n",
    "\\begin{align*}\n",
    "\\min_{w} & f\\left(w\\right)\\\\\n",
    "s.t. & g\\left(w\\right)\\geq0\n",
    "\\end{align*}\n",
    "$$"
   ]
  },
  {
   "cell_type": "code",
   "execution_count": 5,
   "metadata": {},
   "outputs": [
    {
     "name": "stdout",
     "output_type": "stream",
     "text": [
      "Optimization terminated successfully.    (Exit mode 0)\n",
      "            Current function value: -0.7140791324512301\n",
      "            Iterations: 7\n",
      "            Function evaluations: 37\n",
      "            Gradient evaluations: 7\n"
     ]
    }
   ],
   "source": [
    "from scipy.optimize import minimize\n",
    "\n",
    "eq_cons = {'type': 'eq',\n",
    "           'fun' : lambda w: port_weight(w) - 1}\n",
    "\n",
    "w0 = np.array([1, 0, 0])\n",
    "\n",
    "res = minimize(port_sharpe, w0, method='SLSQP', constraints=eq_cons, options={'ftol': 1e-9, 'disp': True})"
   ]
  },
  {
   "cell_type": "code",
   "execution_count": 6,
   "metadata": {},
   "outputs": [
    {
     "data": {
      "text/plain": [
       "array([0.54864871, 0.06613309, 0.3852182 ])"
      ]
     },
     "execution_count": 6,
     "metadata": {},
     "output_type": "execute_result"
    }
   ],
   "source": [
    "res.x"
   ]
  },
  {
   "cell_type": "code",
   "execution_count": 7,
   "metadata": {},
   "outputs": [
    {
     "data": {
      "text/plain": [
       "1.0"
      ]
     },
     "execution_count": 7,
     "metadata": {},
     "output_type": "execute_result"
    }
   ],
   "source": [
    "res.x.sum()"
   ]
  },
  {
   "cell_type": "code",
   "execution_count": 8,
   "metadata": {},
   "outputs": [
    {
     "data": {
      "text/plain": [
       "0.7140791324512301"
      ]
     },
     "execution_count": 8,
     "metadata": {},
     "output_type": "execute_result"
    }
   ],
   "source": [
    "-1*res.fun"
   ]
  },
  {
   "cell_type": "markdown",
   "metadata": {},
   "source": [
    "# Interpolation\n",
    "There are several general interpolation facilities available in SciPy, for data in 1, 2, and higher dimensions. The `interp1d` funtions grabs data points and returns a function. The default interpolation method is the linear interpolation, but there are several to choose from."
   ]
  },
  {
   "cell_type": "code",
   "execution_count": 9,
   "metadata": {},
   "outputs": [],
   "source": [
    "from scipy.interpolate import interp1d\n",
    "\n",
    "x = np.linspace(0, 10, num=11, endpoint=True)\n",
    "y = np.cos(-x**2/9.0)"
   ]
  },
  {
   "cell_type": "code",
   "execution_count": 10,
   "metadata": {
    "scrolled": true
   },
   "outputs": [],
   "source": [
    "f1 = interp1d(x, y)  # linear is the default\n",
    "f2 = interp1d(x, y, kind='cubic')  # cubic splines\n",
    "f3 = interp1d(x, y, kind='nearest')  # grab the nearest value\n",
    "f4 = interp1d(x, y, kind='previous')  # hold last value\n",
    "f5 = interp1d(x, y, kind='next')  # grab the next value"
   ]
  },
  {
   "cell_type": "markdown",
   "metadata": {},
   "source": [
    "Now that we have the interpolated function, lets generate more points for the x axis and plot the different methods"
   ]
  },
  {
   "cell_type": "code",
   "execution_count": 11,
   "metadata": {},
   "outputs": [
    {
     "data": {
      "text/plain": [
       "array([ 0.  ,  0.25,  0.5 ,  0.75,  1.  ,  1.25,  1.5 ,  1.75,  2.  ,\n",
       "        2.25,  2.5 ,  2.75,  3.  ,  3.25,  3.5 ,  3.75,  4.  ,  4.25,\n",
       "        4.5 ,  4.75,  5.  ,  5.25,  5.5 ,  5.75,  6.  ,  6.25,  6.5 ,\n",
       "        6.75,  7.  ,  7.25,  7.5 ,  7.75,  8.  ,  8.25,  8.5 ,  8.75,\n",
       "        9.  ,  9.25,  9.5 ,  9.75, 10.  ])"
      ]
     },
     "execution_count": 11,
     "metadata": {},
     "output_type": "execute_result"
    }
   ],
   "source": [
    "xnew = np.linspace(0, 10, num=41, endpoint=True)\n",
    "xnew"
   ]
  },
  {
   "cell_type": "code",
   "execution_count": 12,
   "metadata": {},
   "outputs": [
    {
     "data": {
      "image/png": "[encoded data removed]",
      "text/plain": [
       "<Figure size 432x288 with 1 Axes>"
      ]
     },
     "metadata": {},
     "output_type": "display_data"
    }
   ],
   "source": [
    "plt.plot(x, y, 'o', xnew, f1(xnew), '-', xnew, f2(xnew), '--')\n",
    "plt.legend(['data', 'linear', 'cubic'], loc='best')\n",
    "plt.show()"
   ]
  },
  {
   "cell_type": "code",
   "execution_count": 13,
   "metadata": {},
   "outputs": [
    {
     "data": {
      "image/png": "[encoded data removed]",
      "text/plain": [
       "<Figure size 432x288 with 1 Axes>"
      ]
     },
     "metadata": {},
     "output_type": "display_data"
    }
   ],
   "source": [
    "plt.plot(x, y, 'o', xnew, f3(xnew), '-', xnew, f4(xnew), '--', xnew, f5(xnew), ':')\n",
    "plt.legend(['data', 'nearest', 'previous', 'next'], loc='best')\n",
    "plt.show()"
   ]
  },
  {
   "cell_type": "markdown",
   "metadata": {},
   "source": [
    "The `interpolate` sublibrary also has interpolation methods for multivariate data and has **integration with pandas**. Have a look at the documentation."
   ]
  },
  {
   "cell_type": "markdown",
   "metadata": {},
   "source": [
    "# Linear Algebra (again)\n",
    "`scipy.linalg` contains all the functions in `numpy.linalg` plus some more advanced ones."
   ]
  },
  {
   "cell_type": "code",
   "execution_count": 14,
   "metadata": {},
   "outputs": [
    {
     "data": {
      "text/plain": [
       "array([[-1.48,  0.36,  0.88],\n",
       "       [ 0.56,  0.08, -0.36],\n",
       "       [ 0.16, -0.12,  0.04]])"
      ]
     },
     "execution_count": 14,
     "metadata": {},
     "output_type": "execute_result"
    }
   ],
   "source": [
    "from scipy import linalg as la\n",
    "\n",
    "A = np.array([[1,3,5],[2,5,1],[2,3,8]])\n",
    "la.inv(A)"
   ]
  },
  {
   "cell_type": "markdown",
   "metadata": {},
   "source": [
    "Matrix and vector **norms** can also be computed with SciPy. A wide range of norm definitions are available using different parameters to the order argument of `linalg.norm`."
   ]
  },
  {
   "cell_type": "code",
   "execution_count": 15,
   "metadata": {},
   "outputs": [
    {
     "name": "stdout",
     "output_type": "stream",
     "text": [
      "5.477225575051661\n",
      "6.0\n",
      "7.0\n"
     ]
    }
   ],
   "source": [
    "A = np.array([[1, 2], [3, 4]])\n",
    "print(la.norm(A))  # frobenius norm is the default.\n",
    "print(la.norm(A, 1)) # L1 norm (max column sum)\n",
    "print(la.norm(A, np.inf)) # L inf norm (max row sum)"
   ]
  },
  {
   "cell_type": "markdown",
   "metadata": {},
   "source": [
    "Some more advanced matrix decompositions are also available, like the **Schur Decomposition**"
   ]
  },
  {
   "cell_type": "code",
   "execution_count": 16,
   "metadata": {},
   "outputs": [
    {
     "data": {
      "text/plain": [
       "(array([[-0.37228132, -1.        ],\n",
       "        [ 0.        ,  5.37228132]]), array([[-0.82456484, -0.56576746],\n",
       "        [ 0.56576746, -0.82456484]]))"
      ]
     },
     "execution_count": 16,
     "metadata": {},
     "output_type": "execute_result"
    }
   ],
   "source": [
    "la.schur(A)"
   ]
  },
  {
   "cell_type": "markdown",
   "metadata": {},
   "source": [
    "Some notable matrices can also be created, like block **diagonal matrices**."
   ]
  },
  {
   "cell_type": "code",
   "execution_count": 17,
   "metadata": {},
   "outputs": [
    {
     "data": {
      "text/plain": [
       "array([[1, 0, 0, 0, 0, 0],\n",
       "       [0, 1, 0, 0, 0, 0],\n",
       "       [0, 0, 3, 4, 5, 0],\n",
       "       [0, 0, 6, 7, 8, 0],\n",
       "       [0, 0, 0, 0, 0, 7]])"
      ]
     },
     "execution_count": 17,
     "metadata": {},
     "output_type": "execute_result"
    }
   ],
   "source": [
    "A = np.array([[1, 0],\n",
    "              [0, 1]])\n",
    "\n",
    "B = np.array([[3, 4, 5],\n",
    "              [6, 7, 8]])\n",
    "\n",
    "C = np.array([[7]])\n",
    "\n",
    "la.block_diag(A, B, C)"
   ]
  },
  {
   "cell_type": "markdown",
   "metadata": {},
   "source": [
    "# Solving Linear Systems\n",
    "\n",
    "\n",
    "$$\n",
    "\\begin{align}\n",
    "x+3y+5 & =10\\\\\n",
    "2x+5y+z & =8\\\\\n",
    "2x+3y+8z & =3\n",
    "\\end{align}\n",
    "$$\n",
    "\n",
    "The system above can be written with matrix notation as $AX=B$ and we know we can find the solution by doing $X=A^{-1}B$, but inverting a matrix is computationally expensive. When solving big linear system it is advised to use the `solve` method."
   ]
  },
  {
   "cell_type": "code",
   "execution_count": 18,
   "metadata": {},
   "outputs": [],
   "source": [
    "A = np.array([[1, 3, 5], [2, 5, 1], [2, 3, 8]])\n",
    "B = np.array([[10], [8], [3]])"
   ]
  },
  {
   "cell_type": "markdown",
   "metadata": {},
   "source": [
    "Lets check the time that it takes to solve the system in both ways..."
   ]
  },
  {
   "cell_type": "code",
   "execution_count": 19,
   "metadata": {},
   "outputs": [
    {
     "data": {
      "text/plain": [
       "array([[-9.28],\n",
       "       [ 5.16],\n",
       "       [ 0.76]])"
      ]
     },
     "execution_count": 19,
     "metadata": {},
     "output_type": "execute_result"
    }
   ],
   "source": [
    "la.inv(A).dot(B)"
   ]
  },
  {
   "cell_type": "code",
   "execution_count": 20,
   "metadata": {},
   "outputs": [
    {
     "data": {
      "text/plain": [
       "array([[-9.28],\n",
       "       [ 5.16],\n",
       "       [ 0.76]])"
      ]
     },
     "execution_count": 20,
     "metadata": {},
     "output_type": "execute_result"
    }
   ],
   "source": [
    "la.solve(A, B)"
   ]
  },
  {
   "cell_type": "markdown",
   "metadata": {},
   "source": [
    "let's try with a bigger matrix"
   ]
  },
  {
   "cell_type": "code",
   "execution_count": 21,
   "metadata": {},
   "outputs": [],
   "source": [
    "import numpy.random as rnd\n",
    "A = rnd.random((1000, 1000))\n",
    "B = rnd.random((1000, 1))"
   ]
  },
  {
   "cell_type": "code",
   "execution_count": 27,
   "metadata": {},
   "outputs": [
    {
     "name": "stdout",
     "output_type": "stream",
     "text": [
      "28.8 ms ± 1.98 ms per loop (mean ± std. dev. of 7 runs, 10 loops each)\n"
     ]
    }
   ],
   "source": [
    "%%timeit\n",
    "la.inv(A).dot(B)"
   ]
  },
  {
   "cell_type": "code",
   "execution_count": 28,
   "metadata": {},
   "outputs": [
    {
     "name": "stdout",
     "output_type": "stream",
     "text": [
      "14.9 ms ± 495 µs per loop (mean ± std. dev. of 7 runs, 100 loops each)\n"
     ]
    }
   ],
   "source": [
    "%%timeit\n",
    "la.solve(A, B)"
   ]
  }
 ],
 "metadata": {
  "kernelspec": {
   "display_name": "Python 3",
   "language": "python",
   "name": "python3"
  },
  "language_info": {
   "codemirror_mode": {
    "name": "ipython",
    "version": 3
   },
   "file_extension": ".py",
   "mimetype": "text/x-python",
   "name": "python",
   "nbconvert_exporter": "python",
   "pygments_lexer": "ipython3",
   "version": "3.5.5"
  }
 },
 "nbformat": 4,
 "nbformat_minor": 2
}
